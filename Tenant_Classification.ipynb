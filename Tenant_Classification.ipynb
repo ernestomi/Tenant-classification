{
 "cells": [
  {
   "cell_type": "markdown",
   "metadata": {
    "colab_type": "text",
    "id": "fcaUw2U1AhAk"
   },
   "source": [
    "# Risk Modelling for Rent arrears\n",
    "### By Ernesto Monroy, LiLib Koo, Oliver Mirnezami, Victor Torrent\n",
    "\n",
    "## Summary\n",
    "\n",
    "In this exercise, we attempt to use payment histories as well as postcode data to predict the risk of tenants falling into arrears in the next 6 months. The analysis carried out consisted of cleaning the imput data, engineering features, creating labels, testing different models and selecting the best. The analysis found that the Naive Bayes model was the most successful amongst 7 models tried with an accuracy of 85.27% a false positive score of 27.07% and a false negative score of 12.72%. It is important to note that although other models had better accuracy, this is the lowest false positive score. This given that we generally value higher reducing the missed high risk individuals than classifying low risk as high risk.\n",
    "\n",
    "In addition to the 6 month evaluation of risk, we ran the same model using a 3 month horizon. We found that the second model obtained an accuracy of 92.86% a false positive score of 18.39% and a false negative score of 6.62%. We then concluded that short term risk is significantly more predictable than long term risk. Therefore, our recommendation to the landlords is to utilize short term predictions as much as possible when making decisions.\n",
    "\n",
    "Considering the simplicity both of the measures and the data used in the model we set our hypothesis as finding a model that can acheive a generous false positive score lower than 30%. However, in order to take this analyisis further and improve the results we recommend two main actions. Firstly, it would be important to find additional sources of information for either the tenants or the different zip codes. Secondly,this analysis would benefit to try a larger amount of combinations of: models, hyperparameters and predictor combinations. \n",
    "\n",
    "\n",
    "### The Hypothesis\n",
    "\n",
    "The objective of this exerise is to identify those individuals that pose a risk of significantly falling behind on their rent payments. This means that our hypothesis is based on the posibility of predicting high risk based on the data available to us, in this case, postcode and payment history. Our hypothesis is therefore:\n",
    "\n",
    "__Given the history of payments for an individual at a specific point in time, it is possible to accurately estimate the probability of falling into arrears__\n",
    "\n",
    "For the hypothesis, we will measure accuracy as: 1-false positive rate. This means that we place a higher value in accurately finding those high risk tenants over incorrectly classifying low risk as high risk. The reason is that given the high risk tenants are a considerably small proportion of the population (<5%) a model that prioritizes accuracy will tend to classify as many low risks as possible.\n",
    "\n",
    "Finally, we will set the target of the hypothesis to be 70% of high risk payers correctly classified\n",
    "\n",
    "### Rating of tenants\n",
    "\n",
    "For our analysis we have established a two tier classification, high risk and low risk individuals. We have named the low risk label \"A\" and the high risk label \"B\". \n",
    "\n",
    "The main reason behind this choice, is that we consider that the decrease in accuracy is greater than the gain in information. This is, we would have a model that is less accurate, with more categories that are not easily actionable. In tha A/B scenario we can either accept the tenant into our property or not.\n",
    "\n",
    "So in order to come up with a labelling criteria, we look at M months of data (6 and 3), and decide if we would have let the property to that client based on their payment history. More specifically, we look at two datapoints:\n",
    " - __Function form__: Is the customer improving, worsening stable\n",
    " - __Current debt__: We set 3 tiers worse than a maximum debt threshold, better than minimum debt threshold and in between.\n",
    "\n",
    "The result is the following classification table\n",
    "\n",
    "<table align=\"center\">\n",
    "  <tr>\n",
    "    <th>Gradient</th>\n",
    "    <th>Current debt greater <br> than max threshold </th>\n",
    "    <th>Current debt between <br> mas and min threshold </th>\n",
    "    <th>Current debt less <br> than min threshold </th>\n",
    "  </tr>\n",
    "  <tr>\n",
    "    <th><img src=\"flat.png\"> <br> Debt </th>\n",
    "    <td>B</td>\n",
    "    <td>A</td>\n",
    "    <td>A</td>\n",
    "  </tr>\n",
    "  <tr>\n",
    "    <th><img src=\"positive.png\"> <br> Debt </th>\n",
    "    <td>B</td>\n",
    "    <td>A</td>\n",
    "    <td>A</td>\n",
    "  </tr>\n",
    "  <tr>\n",
    "    <th><img src=\"negative.png\"> <br> Debt </th>\n",
    "    <td>A</td>\n",
    "    <td>A</td>\n",
    "    <td>A</td>\n",
    "  </tr>\n",
    "  <tr>\n",
    "    <th> <img src=\"concave.png\"></th>\n",
    "    <td>A</td>\n",
    "    <td>A</td>\n",
    "    <td>A</td>\n",
    "  </tr>\n",
    "  <tr>\n",
    "    <th> <img src=\"convex.png\"> </th>\n",
    "    <td>A</td>\n",
    "    <td>A</td>\n",
    "    <td>A</td>\n",
    "  </tr>\n",
    "  <tr>\n",
    "    <th> <img src=\"wigly.png\"> </th>\n",
    "    <td>B</td>\n",
    "    <td>A</td>\n",
    "    <td>A</td>\n",
    "  </tr>\n",
    "</table>\n",
    "\n",
    "\n",
    "## Index to the Analysis\n",
    "\n",
    "Aside from the Summary and Introduction, this notebook consists of the following sections:\n",
    " 1. Loading Data and Libraries\n",
    " 2. Data Cleaning and Exploring\n",
    "  1. Postcode Data\n",
    "  2. Date of Birth\n",
    "  3. Payment Date\n",
    "  4. Payment Ammount\n",
    "  5. Rent Ammount\n",
    "  6. Outstanding Balance\n",
    " 3. Feature engineering\n",
    "  1. Creating the risk label\n",
    "  2. Deriving past data\n",
    "  3. Merging postcode data\n",
    "  4. Standardising\n",
    "  5. Binarising\n",
    "  6. Splitting the data\n",
    " 3. Model Evaluation\n",
    "  1. Naive Bayes\n",
    "  2. Classification Tree\n",
    "  3. K-Nearest Neighbor\n",
    "  4. Support Vector Machines\n",
    "  5. Random Forest\n",
    "  6. Boosting\n",
    "  7. Voting\n",
    " 4. Model Comparison\n",
    " 5. Comparing with shorter prediction horizon\n",
    " 6. Conlcusions\n"
   ]
  },
  {
   "cell_type": "markdown",
   "metadata": {
    "colab_type": "text",
    "id": "_nStJU3qMtIv"
   },
   "source": [
    "## Loading Data and Libraries\n",
    "\n",
    "### Libraries used\n",
    "As standard, our main library sources are pandas and numpy for data handling; matplotlib and seaborn for visualization; and scikit learn's extensive ML offerings"
   ]
  },
  {
   "cell_type": "code",
   "execution_count": 208,
   "metadata": {
    "colab": {},
    "colab_type": "code",
    "id": "i6M5aLvZ-ubt"
   },
   "outputs": [],
   "source": [
    "#Data Handling\n",
    "import pandas as pd\n",
    "pd.options.mode.chained_assignment = None \n",
    "import numpy as np\n",
    "#Plotting\n",
    "import matplotlib.pyplot as plt\n",
    "from matplotlib.pyplot import figure\n",
    "import seaborn as sns; sns.set()\n",
    "#Models\n",
    "from sklearn.naive_bayes import GaussianNB\n",
    "from sklearn.neighbors import KNeighborsClassifier\n",
    "from sklearn.tree import DecisionTreeClassifier\n",
    "from sklearn.svm import SVC\n",
    "from sklearn.ensemble import VotingClassifier\n",
    "from sklearn.ensemble import AdaBoostClassifier\n",
    "from sklearn.ensemble import RandomForestClassifier\n",
    "from sklearn.ensemble import BaggingClassifier\n",
    "#Preprocessing and Accuracy\n",
    "from sklearn.metrics import accuracy_score\n",
    "from sklearn import preprocessing\n",
    "from sklearn.preprocessing import StandardScaler\n",
    "from sklearn.model_selection import train_test_split\n",
    "from sklearn.metrics import confusion_matrix\n",
    "from sklearn.model_selection import validation_curve\n",
    "from sklearn.metrics import precision_score"
   ]
  },
  {
   "cell_type": "markdown",
   "metadata": {
    "colab_type": "text",
    "id": "xf_h4mBoMvl5"
   },
   "source": [
    "### Data Loading\n",
    "\n",
    "The data used in this analysis consists of two sets. The first, is the payment history and postcodes for 1989 tenants.\n",
    "\n",
    "The second set, is the summary of fillings for the IRS at postcode level. Its important to mention that given this analysis contains data between 2010 and 2012, we will use exclusively the IRS 2012 data set. In addition, we note that of the 32 fields available for the IRS dataset, we will only utilise: number of fillings, number of married fillings, earnings and wages.\n",
    "\n",
    "#### Loading the rental set"
   ]
  },
  {
   "cell_type": "code",
   "execution_count": 209,
   "metadata": {
    "colab": {
     "base_uri": "https://localhost:8080/",
     "height": 359
    },
    "colab_type": "code",
    "id": "Rxu6dZEbCzM_",
    "outputId": "7192a6e1-09e8-4eea-c33d-d2bfd7406cfc"
   },
   "outputs": [
    {
     "data": {
      "text/html": [
       "<div>\n",
       "<style scoped>\n",
       "    .dataframe tbody tr th:only-of-type {\n",
       "        vertical-align: middle;\n",
       "    }\n",
       "\n",
       "    .dataframe tbody tr th {\n",
       "        vertical-align: top;\n",
       "    }\n",
       "\n",
       "    .dataframe thead th {\n",
       "        text-align: right;\n",
       "    }\n",
       "</style>\n",
       "<table border=\"1\" class=\"dataframe\">\n",
       "  <thead>\n",
       "    <tr style=\"text-align: right;\">\n",
       "      <th></th>\n",
       "      <th>name</th>\n",
       "      <th>house_id</th>\n",
       "      <th>zip</th>\n",
       "      <th>rent</th>\n",
       "      <th>payment_date</th>\n",
       "      <th>dob</th>\n",
       "      <th>payment_amount</th>\n",
       "    </tr>\n",
       "  </thead>\n",
       "  <tbody>\n",
       "    <tr>\n",
       "      <th>0</th>\n",
       "      <td>Paulina Lefort</td>\n",
       "      <td>1869</td>\n",
       "      <td>92129</td>\n",
       "      <td>1324.0</td>\n",
       "      <td>2010-01-02</td>\n",
       "      <td>NaN</td>\n",
       "      <td>1324.0</td>\n",
       "    </tr>\n",
       "    <tr>\n",
       "      <th>1</th>\n",
       "      <td>Clare Tilly</td>\n",
       "      <td>407</td>\n",
       "      <td>92155</td>\n",
       "      <td>1723.0</td>\n",
       "      <td>2010-01-02</td>\n",
       "      <td>NaN</td>\n",
       "      <td>1723.0</td>\n",
       "    </tr>\n",
       "    <tr>\n",
       "      <th>2</th>\n",
       "      <td>Eleni Loudin</td>\n",
       "      <td>647</td>\n",
       "      <td>92111</td>\n",
       "      <td>1494.0</td>\n",
       "      <td>2010-01-02</td>\n",
       "      <td>2000-01-01</td>\n",
       "      <td>1494.0</td>\n",
       "    </tr>\n",
       "    <tr>\n",
       "      <th>3</th>\n",
       "      <td>Tandy Ammann</td>\n",
       "      <td>2215</td>\n",
       "      <td>92153</td>\n",
       "      <td>1438.0</td>\n",
       "      <td>2010-01-02</td>\n",
       "      <td>1992-12-02</td>\n",
       "      <td>1438.0</td>\n",
       "    </tr>\n",
       "    <tr>\n",
       "      <th>4</th>\n",
       "      <td>Tamra Trisler</td>\n",
       "      <td>2213</td>\n",
       "      <td>92172</td>\n",
       "      <td>1658.0</td>\n",
       "      <td>2010-01-02</td>\n",
       "      <td>2000-01-01</td>\n",
       "      <td>1658.0</td>\n",
       "    </tr>\n",
       "  </tbody>\n",
       "</table>\n",
       "</div>"
      ],
      "text/plain": [
       "             name  house_id    zip    rent payment_date         dob  \\\n",
       "0  Paulina Lefort      1869  92129  1324.0   2010-01-02         NaN   \n",
       "1     Clare Tilly       407  92155  1723.0   2010-01-02         NaN   \n",
       "2    Eleni Loudin       647  92111  1494.0   2010-01-02  2000-01-01   \n",
       "3    Tandy Ammann      2215  92153  1438.0   2010-01-02  1992-12-02   \n",
       "4   Tamra Trisler      2213  92172  1658.0   2010-01-02  2000-01-01   \n",
       "\n",
       "   payment_amount  \n",
       "0          1324.0  \n",
       "1          1723.0  \n",
       "2          1494.0  \n",
       "3          1438.0  \n",
       "4          1658.0  "
      ]
     },
     "execution_count": 209,
     "metadata": {},
     "output_type": "execute_result"
    }
   ],
   "source": [
    "#Load the data\n",
    "df = pd.read_csv('rental_data.csv')\n",
    "#Rename columns\n",
    "df['house_id'] = df['houseID']\n",
    "df['zip'] = df['houseZip']\n",
    "df['rent'] = df['rentAmount']\n",
    "df['payment_date'] = df['paymentDate_clean']\n",
    "df['dob'] = df['dob_clean']\n",
    "df['payment_amount'] = df['paymentAmount_clean']\n",
    "\n",
    "#Keep names of columns of interest\n",
    "rent_columns=['name','house_id','zip','rent','payment_date','dob','payment_amount']\n",
    "#Keep columns of interest\n",
    "df = df[rent_columns]\n",
    "df.head(5)"
   ]
  },
  {
   "cell_type": "markdown",
   "metadata": {},
   "source": [
    "#### Loading the IRS set\n",
    "\n",
    "The data set used here has been preprocessed by a python script. This is because the original dataset contained information about all the US and we are only interested in 32 postcodes in California. The python script is attached to this notebook."
   ]
  },
  {
   "cell_type": "code",
   "execution_count": 210,
   "metadata": {
    "colab": {
     "base_uri": "https://localhost:8080/",
     "height": 1000
    },
    "colab_type": "code",
    "id": "j8kmvVjPkpvJ",
    "outputId": "1caa5fff-f255-4833-d84a-cb9782b96b82"
   },
   "outputs": [
    {
     "data": {
      "text/html": [
       "<div>\n",
       "<style scoped>\n",
       "    .dataframe tbody tr th:only-of-type {\n",
       "        vertical-align: middle;\n",
       "    }\n",
       "\n",
       "    .dataframe tbody tr th {\n",
       "        vertical-align: top;\n",
       "    }\n",
       "\n",
       "    .dataframe thead th {\n",
       "        text-align: right;\n",
       "    }\n",
       "</style>\n",
       "<table border=\"1\" class=\"dataframe\">\n",
       "  <thead>\n",
       "    <tr style=\"text-align: right;\">\n",
       "      <th></th>\n",
       "      <th>ZIPCODE</th>\n",
       "      <th>population</th>\n",
       "      <th>earnings</th>\n",
       "      <th>salaries</th>\n",
       "      <th>marriages</th>\n",
       "    </tr>\n",
       "  </thead>\n",
       "  <tbody>\n",
       "    <tr>\n",
       "      <th>0</th>\n",
       "      <td>92101</td>\n",
       "      <td>-0.121627</td>\n",
       "      <td>0.329478</td>\n",
       "      <td>0.262245</td>\n",
       "      <td>0.180435</td>\n",
       "    </tr>\n",
       "    <tr>\n",
       "      <th>1</th>\n",
       "      <td>92102</td>\n",
       "      <td>-0.089934</td>\n",
       "      <td>-0.936844</td>\n",
       "      <td>-0.853826</td>\n",
       "      <td>0.245840</td>\n",
       "    </tr>\n",
       "    <tr>\n",
       "      <th>2</th>\n",
       "      <td>92103</td>\n",
       "      <td>-0.021037</td>\n",
       "      <td>0.375669</td>\n",
       "      <td>0.065237</td>\n",
       "      <td>0.201255</td>\n",
       "    </tr>\n",
       "    <tr>\n",
       "      <th>3</th>\n",
       "      <td>92104</td>\n",
       "      <td>0.641754</td>\n",
       "      <td>-0.250251</td>\n",
       "      <td>-0.046980</td>\n",
       "      <td>0.196324</td>\n",
       "    </tr>\n",
       "    <tr>\n",
       "      <th>4</th>\n",
       "      <td>92105</td>\n",
       "      <td>1.101988</td>\n",
       "      <td>-0.739703</td>\n",
       "      <td>-0.614150</td>\n",
       "      <td>0.284457</td>\n",
       "    </tr>\n",
       "  </tbody>\n",
       "</table>\n",
       "</div>"
      ],
      "text/plain": [
       "   ZIPCODE  population  earnings  salaries  marriages\n",
       "0    92101   -0.121627  0.329478  0.262245   0.180435\n",
       "1    92102   -0.089934 -0.936844 -0.853826   0.245840\n",
       "2    92103   -0.021037  0.375669  0.065237   0.201255\n",
       "3    92104    0.641754 -0.250251 -0.046980   0.196324\n",
       "4    92105    1.101988 -0.739703 -0.614150   0.284457"
      ]
     },
     "execution_count": 210,
     "metadata": {},
     "output_type": "execute_result"
    }
   ],
   "source": [
    "#Load the data\n",
    "df_geo= pd.read_csv('poscodes_processed.csv')\n",
    "#Get the normalized data of interest\n",
    "df_geo['population'] = StandardScaler().fit_transform(df_geo['N1'].values.reshape(-1, 1))\n",
    "df_geo['earnings'] = StandardScaler().fit_transform(df_geo['A00100'].values.reshape(-1, 1))\n",
    "df_geo['salaries'] = StandardScaler().fit_transform(df_geo['A00200'].values.reshape(-1, 1))\n",
    "df_geo['marriages'] = df_geo['MARS2']/df_geo['N1']\n",
    "df_geo=df_geo[['ZIPCODE','population','earnings','salaries','marriages']]\n",
    "df_geo.head(5)"
   ]
  },
  {
   "cell_type": "markdown",
   "metadata": {
    "colab_type": "text",
    "id": "9IDZ-7N0Dwjr"
   },
   "source": [
    "## Data cleaning & exploring\n",
    "\n",
    "In this section we explore the data available by means of histograms and means and begin deciding which features we will use in our model."
   ]
  },
  {
   "cell_type": "markdown",
   "metadata": {},
   "source": [
    "### Postcode Data\n",
    "\n",
    "In the previous step we loaded and standardised the postcode data, in this part, we look at the distribution of values for each of our 4 candidate columns and decide which to include. From the below histograms we observe that all of the variables offer a wide distribution of values (i.e. there is no highly skewed data) and we decide to keep the variables for the next step of analysis"
   ]
  },
  {
   "cell_type": "code",
   "execution_count": 211,
   "metadata": {},
   "outputs": [
    {
     "data": {
      "text/plain": [
       "Text(0.5, 0, 'marriages')"
      ]
     },
     "execution_count": 211,
     "metadata": {},
     "output_type": "execute_result"
    },
    {
     "data": {
      "image/png": "[encoded data removed]",
      "text/plain": [
       "<Figure size 864x288 with 4 Axes>"
      ]
     },
     "metadata": {},
     "output_type": "display_data"
    }
   ],
   "source": [
    "figure(figsize=(12,4))\n",
    "plt.subplot(1,4,1)\n",
    "plt.hist(df_geo['population']);\n",
    "plt.xlabel('population')\n",
    "plt.subplot(1,4,2)\n",
    "plt.hist(df_geo['earnings']);\n",
    "plt.xlabel('earnings')\n",
    "plt.subplot(1,4,3)\n",
    "plt.hist(df_geo['salaries']);\n",
    "plt.xlabel('salaries')\n",
    "plt.subplot(1,4,4)\n",
    "plt.hist(df_geo['marriages']);\n",
    "plt.xlabel('marriages')"
   ]
  },
  {
   "cell_type": "markdown",
   "metadata": {},
   "source": [
    "### Date of Birth\n",
    "Population data seems to be badly inputed, so we will convert to None any DOB that is more than 18 years from the maximum payment date (When the data stops), and less than 100 years from that same date. However, there is only data for 16% of the population, so we __will exclude it from our analysis__ (_check if this is ok?? we could also trim the sides and \"move it\"_)"
   ]
  },
  {
   "cell_type": "code",
   "execution_count": 212,
   "metadata": {
    "colab": {
     "base_uri": "https://localhost:8080/",
     "height": 291
    },
    "colab_type": "code",
    "id": "XSa_dj85E9i4",
    "outputId": "768f4ca1-1ec1-45c2-baa6-a7a8568851ba"
   },
   "outputs": [
    {
     "name": "stdout",
     "output_type": "stream",
     "text": [
      "Average dob year: 1993 and max payment date (data present year): 1  2012\n"
     ]
    },
    {
     "data": {
      "image/png": "[encoded data removed]",
      "text/plain": [
       "<Figure size 432x288 with 1 Axes>"
      ]
     },
     "metadata": {},
     "output_type": "display_data"
    }
   ],
   "source": [
    "unique_dob_years=df['dob'][pd.isnull(df['dob'])==False]\n",
    "unique_dob_years=unique_dob_years.str.slice(start=0,stop=4).astype(np.int)\n",
    "plt.hist(unique_dob_years);\n",
    "print(\"Average dob year: %d and max payment date (data present year): %d \" % (\n",
    "    unique_dob_years.mean(),1),\n",
    "      df['payment_date'].str.slice(start=0,stop=4).astype(np.int).max())"
   ]
  },
  {
   "cell_type": "markdown",
   "metadata": {},
   "source": [
    "### Payment date\n",
    "\n",
    "Since we are given the payment date as string (as XXXX-XX-XX) with no further information, we need to deduce the possible date format. We begin by exploring the distribution of the second and third numbers in the string (since we know that the first is definetly the year due to being 4 digits)"
   ]
  },
  {
   "cell_type": "code",
   "execution_count": 213,
   "metadata": {},
   "outputs": [
    {
     "data": {
      "image/png": "[encoded data removed]",
      "text/plain": [
       "<Figure size 576x288 with 2 Axes>"
      ]
     },
     "metadata": {},
     "output_type": "display_data"
    }
   ],
   "source": [
    "figure(figsize=(8,4))\n",
    "plt.subplot(1,2,1)\n",
    "plt.hist(df['payment_date'].str.slice(start=5,stop=7).astype(np.int));\n",
    "plt.xlabel('Second Number');\n",
    "plt.subplot(1,2,2)\n",
    "plt.hist(df['payment_date'].str.slice(start=8,stop=10).astype(np.int));\n",
    "plt.xlabel('Third Number');"
   ]
  },
  {
   "cell_type": "markdown",
   "metadata": {
    "colab_type": "text",
    "id": "4K3KD8ejAI4e"
   },
   "source": [
    "Here we notice two important trends. On the \"second number\" there is a big skew towards the number \"1\" as well as a distribution limited by 12. This indicates that either, there are mixed dates, or the great majority of payments are made in January. \n",
    "\n",
    "We also notice a similar trend for the third number, where we get up to the number 31 and a high skew on the first 12 numbers. Indicating also that there is a mix of dates (or the unlikely scenario that there is a significant drop in payments after the 12th day of the month).\n",
    "\n",
    "So in order to make this information useable, we must determine the correct format for each row. Looking at the data individually (in a table) we observe that at least the date formating is consistent at the \"House ID\" level (i.e. the format is consistent for all payments against each house id).\n",
    "\n",
    "Therefore we proceed to clean the data by looking at all the payment dates per house ID. More specifically we apply the following rules in order (i.e. if rule 1 identifies the date format we stop):\n",
    " - __The date being valid__ If we have an impossible month (>12) we automatically classify it\n",
    " - __Months being consecutively after each other__ e.g.if we have 01/02, 01/03, 01/04 we assume the month is the one changing. We do this by assigning a score of 1 if the months are consecutive, 0 if they are the same and -1 if they are going backward.\n",
    " - __Payments distributed through months__ i.e, we check how many unique months we get by applying each format\n",
    " - __Shortest tenancy__ Since this is the fourth rule, only the cases that have <3 datapoints will end here. In this case, we assume the tenancy is as short as possible (i.e. we assign the class of the format that minimises the sum of difference between dates)\n",
    " "
   ]
  },
  {
   "cell_type": "code",
   "execution_count": 214,
   "metadata": {
    "colab": {
     "base_uri": "https://localhost:8080/",
     "height": 204
    },
    "colab_type": "code",
    "id": "Lwy4Yrxsk_r8",
    "outputId": "afad88ce-9f15-40cc-a6b9-9ee34b40461b"
   },
   "outputs": [
    {
     "data": {
      "text/html": [
       "<div>\n",
       "<style scoped>\n",
       "    .dataframe tbody tr th:only-of-type {\n",
       "        vertical-align: middle;\n",
       "    }\n",
       "\n",
       "    .dataframe tbody tr th {\n",
       "        vertical-align: top;\n",
       "    }\n",
       "\n",
       "    .dataframe thead th {\n",
       "        text-align: right;\n",
       "    }\n",
       "</style>\n",
       "<table border=\"1\" class=\"dataframe\">\n",
       "  <thead>\n",
       "    <tr style=\"text-align: right;\">\n",
       "      <th></th>\n",
       "      <th>house_id</th>\n",
       "      <th>ydm_score</th>\n",
       "      <th>ymd_score</th>\n",
       "      <th>month_ydm</th>\n",
       "      <th>month_ymd</th>\n",
       "      <th>ydm_delta</th>\n",
       "      <th>ymd_delta</th>\n",
       "      <th>is_date_ydm</th>\n",
       "    </tr>\n",
       "  </thead>\n",
       "  <tbody>\n",
       "    <tr>\n",
       "      <th>0</th>\n",
       "      <td>1</td>\n",
       "      <td>2.0</td>\n",
       "      <td>30.0</td>\n",
       "      <td>3</td>\n",
       "      <td>31</td>\n",
       "      <td>730.0</td>\n",
       "      <td>943.0</td>\n",
       "      <td>False</td>\n",
       "    </tr>\n",
       "    <tr>\n",
       "      <th>1</th>\n",
       "      <td>2</td>\n",
       "      <td>-16978.0</td>\n",
       "      <td>20.0</td>\n",
       "      <td>12</td>\n",
       "      <td>21</td>\n",
       "      <td>853.0</td>\n",
       "      <td>1004.0</td>\n",
       "      <td>False</td>\n",
       "    </tr>\n",
       "    <tr>\n",
       "      <th>2</th>\n",
       "      <td>3</td>\n",
       "      <td>29.0</td>\n",
       "      <td>3.0</td>\n",
       "      <td>31</td>\n",
       "      <td>4</td>\n",
       "      <td>943.0</td>\n",
       "      <td>730.0</td>\n",
       "      <td>True</td>\n",
       "    </tr>\n",
       "    <tr>\n",
       "      <th>3</th>\n",
       "      <td>4</td>\n",
       "      <td>28.0</td>\n",
       "      <td>3.0</td>\n",
       "      <td>30</td>\n",
       "      <td>4</td>\n",
       "      <td>820.0</td>\n",
       "      <td>761.0</td>\n",
       "      <td>True</td>\n",
       "    </tr>\n",
       "    <tr>\n",
       "      <th>4</th>\n",
       "      <td>5</td>\n",
       "      <td>-981.0</td>\n",
       "      <td>20.0</td>\n",
       "      <td>29</td>\n",
       "      <td>21</td>\n",
       "      <td>518.0</td>\n",
       "      <td>1035.0</td>\n",
       "      <td>False</td>\n",
       "    </tr>\n",
       "  </tbody>\n",
       "</table>\n",
       "</div>"
      ],
      "text/plain": [
       "   house_id  ydm_score  ymd_score  month_ydm  month_ymd  ydm_delta  ymd_delta  \\\n",
       "0         1        2.0       30.0          3         31      730.0      943.0   \n",
       "1         2   -16978.0       20.0         12         21      853.0     1004.0   \n",
       "2         3       29.0        3.0         31          4      943.0      730.0   \n",
       "3         4       28.0        3.0         30          4      820.0      761.0   \n",
       "4         5     -981.0       20.0         29         21      518.0     1035.0   \n",
       "\n",
       "   is_date_ydm  \n",
       "0        False  \n",
       "1        False  \n",
       "2         True  \n",
       "3         True  \n",
       "4        False  "
      ]
     },
     "execution_count": 214,
     "metadata": {},
     "output_type": "execute_result"
    }
   ],
   "source": [
    "#Create a column for the dates for each format\n",
    "df['month_ydm'] = pd.to_datetime(df['payment_date'], \n",
    "                                 format='%Y-%d-%m', errors='coerce').values.astype('datetime64[M]')\n",
    "df['month_ymd'] = pd.to_datetime(df['payment_date'], \n",
    "                                 format='%Y-%m-%d', errors='coerce').values.astype('datetime64[M]')\n",
    "#Get the lag (i.e. the date of the previous datapoint (by house_id))\n",
    "df['month_lag_ydm']=  df.groupby(['house_id'])['month_ydm'].shift(1)\n",
    "df['month_ymd_lag']=  df.groupby(['house_id'])['month_ymd'].shift(1)\n",
    "#Add column for UK and US where -1= before, 0= same, 1=next\n",
    "df['ydm_score']=(df['month_ydm']>df['month_lag_ydm']).astype(np.float32)\n",
    "-(df['month_ydm']<df['month_lag_ydm']).astype(np.float32)\n",
    "df['ymd_score']=(df['month_ymd']>df['month_ymd_lag']).astype(np.float32)\n",
    "-(df['month_ymd']<df['month_ymd_lag']).astype(np.float32)\n",
    "#If the date is invalid, assign an arbitrarily large negative number so we never pick it\n",
    "df['ymd_score'][pd.isnull(df['month_ymd'])]=-999\n",
    "df['ydm_score'][pd.isnull(df['month_ydm'])]=-999\n",
    "#Add column for difference between days\n",
    "df['ydm_delta']=  (df['month_ydm']-df['month_lag_ydm'])/np.timedelta64(1, 'D')\n",
    "df['ymd_delta']=  (df['month_ymd']-df['month_ymd_lag'])/np.timedelta64(1, 'D')\n",
    "\n",
    "#Aggregate the data by house\n",
    "date_type= df.groupby('house_id', as_index=False).agg({\n",
    "    'ydm_score':sum,\n",
    "    'ymd_score':sum,\n",
    "    'month_ydm':pd.Series.nunique,\n",
    "    'month_ymd':pd.Series.nunique,\n",
    "    'ydm_delta':sum,\n",
    "    'ymd_delta':sum\n",
    "})\n",
    "\n",
    "#Define a function that classifies our data\n",
    "def is_date_us(row):\n",
    "  if row['ydm_score'] > row['ymd_score']:\n",
    "    return True\n",
    "  elif row['ydm_score'] < row['ymd_score']:\n",
    "    return False\n",
    "  else:\n",
    "    if row['month_ydm'] > row['month_ymd']:\n",
    "      return True\n",
    "    elif row['month_ydm'] < row['month_ymd']:\n",
    "      return False\n",
    "    else:\n",
    "      return row['ydm_delta'] < row['ymd_delta']\n",
    "    \n",
    "#Apply the function\n",
    "date_type['is_date_ydm']=date_type.apply(is_date_us, axis=1)\n",
    "date_type.head(5)"
   ]
  },
  {
   "cell_type": "markdown",
   "metadata": {
    "colab_type": "text",
    "id": "L047hFTS-Wy0"
   },
   "source": [
    "Now that we have determined if the date is YdM (i.e. if not it is YmD). We can transform our source data"
   ]
  },
  {
   "cell_type": "code",
   "execution_count": 215,
   "metadata": {
    "colab": {
     "base_uri": "https://localhost:8080/",
     "height": 204
    },
    "colab_type": "code",
    "id": "o43pZxWZLu9M",
    "outputId": "b5900b41-f401-43f9-d924-f9d41d3650cc"
   },
   "outputs": [
    {
     "data": {
      "text/html": [
       "<div>\n",
       "<style scoped>\n",
       "    .dataframe tbody tr th:only-of-type {\n",
       "        vertical-align: middle;\n",
       "    }\n",
       "\n",
       "    .dataframe tbody tr th {\n",
       "        vertical-align: top;\n",
       "    }\n",
       "\n",
       "    .dataframe thead th {\n",
       "        text-align: right;\n",
       "    }\n",
       "</style>\n",
       "<table border=\"1\" class=\"dataframe\">\n",
       "  <thead>\n",
       "    <tr style=\"text-align: right;\">\n",
       "      <th></th>\n",
       "      <th>name</th>\n",
       "      <th>house_id</th>\n",
       "      <th>zip</th>\n",
       "      <th>rent</th>\n",
       "      <th>payment_date</th>\n",
       "      <th>dob</th>\n",
       "      <th>payment_amount</th>\n",
       "    </tr>\n",
       "  </thead>\n",
       "  <tbody>\n",
       "    <tr>\n",
       "      <th>0</th>\n",
       "      <td>Paulina Lefort</td>\n",
       "      <td>1869</td>\n",
       "      <td>92129</td>\n",
       "      <td>1324.0</td>\n",
       "      <td>2010-02-01</td>\n",
       "      <td>NaN</td>\n",
       "      <td>1324.0</td>\n",
       "    </tr>\n",
       "    <tr>\n",
       "      <th>1</th>\n",
       "      <td>Paulina Lefort</td>\n",
       "      <td>1869</td>\n",
       "      <td>92129</td>\n",
       "      <td>1324.0</td>\n",
       "      <td>2010-03-01</td>\n",
       "      <td>NaN</td>\n",
       "      <td>1324.0</td>\n",
       "    </tr>\n",
       "    <tr>\n",
       "      <th>2</th>\n",
       "      <td>Paulina Lefort</td>\n",
       "      <td>1869</td>\n",
       "      <td>92129</td>\n",
       "      <td>1324.0</td>\n",
       "      <td>2010-04-01</td>\n",
       "      <td>NaN</td>\n",
       "      <td>1324.0</td>\n",
       "    </tr>\n",
       "    <tr>\n",
       "      <th>3</th>\n",
       "      <td>Paulina Lefort</td>\n",
       "      <td>1869</td>\n",
       "      <td>92129</td>\n",
       "      <td>1324.0</td>\n",
       "      <td>2010-05-01</td>\n",
       "      <td>NaN</td>\n",
       "      <td>1324.0</td>\n",
       "    </tr>\n",
       "    <tr>\n",
       "      <th>4</th>\n",
       "      <td>Paulina Lefort</td>\n",
       "      <td>1869</td>\n",
       "      <td>92129</td>\n",
       "      <td>1324.0</td>\n",
       "      <td>2010-06-01</td>\n",
       "      <td>NaN</td>\n",
       "      <td>1324.0</td>\n",
       "    </tr>\n",
       "  </tbody>\n",
       "</table>\n",
       "</div>"
      ],
      "text/plain": [
       "             name  house_id    zip    rent payment_date  dob  payment_amount\n",
       "0  Paulina Lefort      1869  92129  1324.0   2010-02-01  NaN          1324.0\n",
       "1  Paulina Lefort      1869  92129  1324.0   2010-03-01  NaN          1324.0\n",
       "2  Paulina Lefort      1869  92129  1324.0   2010-04-01  NaN          1324.0\n",
       "3  Paulina Lefort      1869  92129  1324.0   2010-05-01  NaN          1324.0\n",
       "4  Paulina Lefort      1869  92129  1324.0   2010-06-01  NaN          1324.0"
      ]
     },
     "execution_count": 215,
     "metadata": {},
     "output_type": "execute_result"
    }
   ],
   "source": [
    "#Merge with original data set\n",
    "df=df.merge(date_type[['house_id','is_date_ydm']])\n",
    "#Apply Ymd Date to all\n",
    "df['new_date'] = pd.to_datetime(df['payment_date'], format='%Y-%m-%d', errors='coerce')\n",
    "#Except for those that are Ydm (override)\n",
    "df['new_date'][df['is_date_ydm']] = pd.to_datetime(df['payment_date'], format='%Y-%d-%m', errors='coerce')\n",
    "df['payment_date']=df['new_date']\n",
    "#Reduce columns to our normal\n",
    "df=df[rent_columns]\n",
    "df.head(5)"
   ]
  },
  {
   "cell_type": "markdown",
   "metadata": {
    "colab_type": "text",
    "id": "idujHn6-AI0I"
   },
   "source": [
    "### Payment amount\n",
    "\n",
    "An important feature of the data set, is that we only get the data when a payment is made, but we have no datapoints for payments being due. Therefore we need to create our own data for payments owed. We do this by assuming that every month, the tentant must pay their rent. We consider that the tenancy of each person starts on the month of their first payment and ends in the month of their last payments.\n",
    "\n",
    "Therefore, we proceed to create monthly snapshots of each tenant. We aggregate the rent paid, average the payment amount (since sometimes they change from one house to another) and record the first house (the outgoing house)\n",
    "\n",
    "Since there are months where tenants dont pay, we need to derive the rent owed from the previous row for that specific tenant. We do this with the lag function that updates the rent with the rent from the previous row. The loop here is needed since there may be many months unpaid, in which case, it will loop until there are no more nulls.\n",
    "\n",
    "It is also worth mentioning that the resample function creates a datapoint for each \"month start\" (or MS) for all months between the minimum and maximum observed month. This means we get a datapoint for every month between the first and last payment, which we assume is the tenancy period"
   ]
  },
  {
   "cell_type": "code",
   "execution_count": 216,
   "metadata": {
    "colab": {
     "base_uri": "https://localhost:8080/",
     "height": 204
    },
    "colab_type": "code",
    "id": "T7yKLic3KnYo",
    "outputId": "d0a23582-b7ae-43eb-bd36-48f3f07192a5"
   },
   "outputs": [
    {
     "data": {
      "text/html": [
       "<div>\n",
       "<style scoped>\n",
       "    .dataframe tbody tr th:only-of-type {\n",
       "        vertical-align: middle;\n",
       "    }\n",
       "\n",
       "    .dataframe tbody tr th {\n",
       "        vertical-align: top;\n",
       "    }\n",
       "\n",
       "    .dataframe thead th {\n",
       "        text-align: right;\n",
       "    }\n",
       "</style>\n",
       "<table border=\"1\" class=\"dataframe\">\n",
       "  <thead>\n",
       "    <tr style=\"text-align: right;\">\n",
       "      <th></th>\n",
       "      <th>name</th>\n",
       "      <th>house_id</th>\n",
       "      <th>zip</th>\n",
       "      <th>payment_date</th>\n",
       "      <th>rent</th>\n",
       "      <th>payment_amount</th>\n",
       "    </tr>\n",
       "  </thead>\n",
       "  <tbody>\n",
       "    <tr>\n",
       "      <th>0</th>\n",
       "      <td>Aaron Huston</td>\n",
       "      <td>1.0</td>\n",
       "      <td>92194.0</td>\n",
       "      <td>2010-02-01</td>\n",
       "      <td>1720.0</td>\n",
       "      <td>1720.0</td>\n",
       "    </tr>\n",
       "    <tr>\n",
       "      <th>1</th>\n",
       "      <td>Aaron Huston</td>\n",
       "      <td>1.0</td>\n",
       "      <td>92194.0</td>\n",
       "      <td>2010-03-01</td>\n",
       "      <td>1720.0</td>\n",
       "      <td>1720.0</td>\n",
       "    </tr>\n",
       "    <tr>\n",
       "      <th>2</th>\n",
       "      <td>Aaron Huston</td>\n",
       "      <td>1.0</td>\n",
       "      <td>92194.0</td>\n",
       "      <td>2010-04-01</td>\n",
       "      <td>1720.0</td>\n",
       "      <td>1720.0</td>\n",
       "    </tr>\n",
       "    <tr>\n",
       "      <th>3</th>\n",
       "      <td>Aaron Huston</td>\n",
       "      <td>1.0</td>\n",
       "      <td>92194.0</td>\n",
       "      <td>2010-05-01</td>\n",
       "      <td>1720.0</td>\n",
       "      <td>1720.0</td>\n",
       "    </tr>\n",
       "    <tr>\n",
       "      <th>4</th>\n",
       "      <td>Aaron Huston</td>\n",
       "      <td>1.0</td>\n",
       "      <td>92194.0</td>\n",
       "      <td>2010-06-01</td>\n",
       "      <td>1720.0</td>\n",
       "      <td>1720.0</td>\n",
       "    </tr>\n",
       "  </tbody>\n",
       "</table>\n",
       "</div>"
      ],
      "text/plain": [
       "           name  house_id      zip payment_date    rent  payment_amount\n",
       "0  Aaron Huston       1.0  92194.0   2010-02-01  1720.0          1720.0\n",
       "1  Aaron Huston       1.0  92194.0   2010-03-01  1720.0          1720.0\n",
       "2  Aaron Huston       1.0  92194.0   2010-04-01  1720.0          1720.0\n",
       "3  Aaron Huston       1.0  92194.0   2010-05-01  1720.0          1720.0\n",
       "4  Aaron Huston       1.0  92194.0   2010-06-01  1720.0          1720.0"
      ]
     },
     "execution_count": 216,
     "metadata": {},
     "output_type": "execute_result"
    }
   ],
   "source": [
    "df=df.set_index('payment_date').groupby('name').resample(\"MS\").agg({\n",
    "    'rent':'mean',\n",
    "    'payment_amount': 'sum',\n",
    "    'house_id':'first',\n",
    "    'zip':'first'\n",
    "})\n",
    "df=df.reset_index()\n",
    "#Replace NaN rent amounts (since average of nothing is NaN) with previous rent until there is none missing\n",
    "while len(df['rent'][pd.isnull(df['rent'])])>0:\n",
    "  df['lag_rent']=df.groupby(['name'])['rent'].shift(1)\n",
    "  df['rent'].fillna(df['lag_rent'], inplace=True)\n",
    "  df['lag_house_id']=df.groupby(['name'])['house_id'].shift(1)\n",
    "  df['house_id'].fillna(df['lag_house_id'], inplace=True)\n",
    "  df['lag_zip']=df.groupby(['name'])['zip'].shift(1)\n",
    "  df['zip'].fillna(df['lag_zip'], inplace=True)\n",
    "  \n",
    "df=df[['name','house_id','zip','payment_date','rent','payment_amount']]\n",
    "df.head(5)"
   ]
  },
  {
   "cell_type": "markdown",
   "metadata": {},
   "source": [
    "And now we visualise the newly created information on a histogram and observe a healthy logarithmic distribution with a set of points with missed payments as expected"
   ]
  },
  {
   "cell_type": "code",
   "execution_count": 217,
   "metadata": {},
   "outputs": [
    {
     "data": {
      "image/png": "[encoded data removed]",
      "text/plain": [
       "<Figure size 432x288 with 1 Axes>"
      ]
     },
     "metadata": {},
     "output_type": "display_data"
    }
   ],
   "source": [
    "plt.hist(df['payment_amount']);"
   ]
  },
  {
   "cell_type": "markdown",
   "metadata": {},
   "source": [
    "### Rent amount\n",
    "\n",
    "In the below histogram we can see that there is a good distribution of rent amounts, we we will not adjust it"
   ]
  },
  {
   "cell_type": "code",
   "execution_count": 218,
   "metadata": {},
   "outputs": [
    {
     "data": {
      "image/png": "[encoded data removed]",
      "text/plain": [
       "<Figure size 432x288 with 1 Axes>"
      ]
     },
     "metadata": {},
     "output_type": "display_data"
    }
   ],
   "source": [
    "plt.hist(df['rent']);"
   ]
  },
  {
   "cell_type": "markdown",
   "metadata": {
    "colab_type": "text",
    "id": "RsXu5PVrnIJT"
   },
   "source": [
    "### Calculate outstanding balance\n",
    "\n",
    "Now that we have a clean history of monthly patments we calculate the cumulative amounts for payments outstanding and months outstanding. \n",
    "\n",
    "The standard through this notebook is __positive numbers indicate debt is owed__ and viceversa __negative numbers indicate overpayment__\n",
    "\n",
    "It is also important to note that we avoid __data peeking__ by making cumulative sums. When creating historical columns for prediction, we maintain this principle of always looking back in time only."
   ]
  },
  {
   "cell_type": "code",
   "execution_count": 219,
   "metadata": {
    "colab": {
     "base_uri": "https://localhost:8080/",
     "height": 274
    },
    "colab_type": "code",
    "id": "kpjvFqhgP-Zj",
    "outputId": "dd49aa07-d63c-4e40-b57f-ed6ca1c7bbc7"
   },
   "outputs": [
    {
     "data": {
      "image/png": "[encoded data removed]",
      "text/plain": [
       "<Figure size 432x288 with 1 Axes>"
      ]
     },
     "metadata": {},
     "output_type": "display_data"
    }
   ],
   "source": [
    "#Calculate if the rent was under over paid\n",
    "df['outstanding_payment']=df['rent']-df['payment_amount']\n",
    "df['outstanding_month']=df['outstanding_payment']/df['rent']\n",
    "#Then do the cumulative sum\n",
    "df['owed']=df.groupby('name')['outstanding_payment'].cumsum()\n",
    "df['owed_months']=df.groupby('name')['outstanding_month'].cumsum()\n",
    "#Reduce columns\n",
    "df=df[['name','house_id','zip','payment_date','rent','payment_amount','owed','owed_months']]\n",
    "#Check the distribution\n",
    "plt.hist(df['owed_months'],10);"
   ]
  },
  {
   "cell_type": "markdown",
   "metadata": {
    "colab_type": "text",
    "id": "Brh1h1buER7R"
   },
   "source": [
    "## Feature engineering\n",
    "\n",
    "Now we take the data we have as a base to calculate new features that can be used in our models. We are concerned about getting information about:\n",
    " - Historical data: since each data point is a month for a single person, we want to know what happened before and after\n",
    " - Serialising: We will attempt to use both regression and classification models, so where approriate we will want to use either a serialised or non-serialised value for each column of data we got\n"
   ]
  },
  {
   "cell_type": "markdown",
   "metadata": {
    "colab_type": "text",
    "id": "2b-tnBxFI3wb"
   },
   "source": [
    "### Create the Y\n",
    "\n",
    "As introduced previously, we would like to classify clients into 2 categories acording to the slope and latest debt. Given the data seen in the previous histogram, we consider. For the purposes of this exercies we have established the minimum threshold as __0 months owed__ and for the maximum threshold we have established __4 months owed__"
   ]
  },
  {
   "cell_type": "markdown",
   "metadata": {
    "colab_type": "text",
    "id": "FtL7Zvf0KKvm"
   },
   "source": [
    "The first step towards the classification is to generate M columns of timeseries data. This is, for each month, we will look at what are the balances of the future 6 and 3 months. Here we take the __future__ months since this is what we want to __predict__"
   ]
  },
  {
   "cell_type": "code",
   "execution_count": 220,
   "metadata": {
    "colab": {
     "base_uri": "https://localhost:8080/",
     "height": 297
    },
    "colab_type": "code",
    "id": "WId_YTRkEfMb",
    "outputId": "5efa1e7c-88c2-4c8e-9ced-3f2169e4a0ff"
   },
   "outputs": [
    {
     "data": {
      "text/html": [
       "<div>\n",
       "<style scoped>\n",
       "    .dataframe tbody tr th:only-of-type {\n",
       "        vertical-align: middle;\n",
       "    }\n",
       "\n",
       "    .dataframe tbody tr th {\n",
       "        vertical-align: top;\n",
       "    }\n",
       "\n",
       "    .dataframe thead th {\n",
       "        text-align: right;\n",
       "    }\n",
       "</style>\n",
       "<table border=\"1\" class=\"dataframe\">\n",
       "  <thead>\n",
       "    <tr style=\"text-align: right;\">\n",
       "      <th></th>\n",
       "      <th>name</th>\n",
       "      <th>house_id</th>\n",
       "      <th>zip</th>\n",
       "      <th>payment_date</th>\n",
       "      <th>rent</th>\n",
       "      <th>payment_amount</th>\n",
       "      <th>owed</th>\n",
       "      <th>owed_months</th>\n",
       "      <th>t1</th>\n",
       "      <th>t2</th>\n",
       "      <th>t3</th>\n",
       "      <th>t4</th>\n",
       "      <th>t5</th>\n",
       "      <th>t6</th>\n",
       "    </tr>\n",
       "  </thead>\n",
       "  <tbody>\n",
       "    <tr>\n",
       "      <th>0</th>\n",
       "      <td>Aaron Huston</td>\n",
       "      <td>1.0</td>\n",
       "      <td>92194.0</td>\n",
       "      <td>2010-02-01</td>\n",
       "      <td>1720.0</td>\n",
       "      <td>1720.0</td>\n",
       "      <td>0.0</td>\n",
       "      <td>0.0</td>\n",
       "      <td>0.0</td>\n",
       "      <td>0.0</td>\n",
       "      <td>0.0</td>\n",
       "      <td>0.0</td>\n",
       "      <td>0.0</td>\n",
       "      <td>0.0</td>\n",
       "    </tr>\n",
       "    <tr>\n",
       "      <th>1</th>\n",
       "      <td>Aaron Huston</td>\n",
       "      <td>1.0</td>\n",
       "      <td>92194.0</td>\n",
       "      <td>2010-03-01</td>\n",
       "      <td>1720.0</td>\n",
       "      <td>1720.0</td>\n",
       "      <td>0.0</td>\n",
       "      <td>0.0</td>\n",
       "      <td>0.0</td>\n",
       "      <td>0.0</td>\n",
       "      <td>0.0</td>\n",
       "      <td>0.0</td>\n",
       "      <td>0.0</td>\n",
       "      <td>1.0</td>\n",
       "    </tr>\n",
       "    <tr>\n",
       "      <th>2</th>\n",
       "      <td>Aaron Huston</td>\n",
       "      <td>1.0</td>\n",
       "      <td>92194.0</td>\n",
       "      <td>2010-04-01</td>\n",
       "      <td>1720.0</td>\n",
       "      <td>1720.0</td>\n",
       "      <td>0.0</td>\n",
       "      <td>0.0</td>\n",
       "      <td>0.0</td>\n",
       "      <td>0.0</td>\n",
       "      <td>0.0</td>\n",
       "      <td>0.0</td>\n",
       "      <td>1.0</td>\n",
       "      <td>1.0</td>\n",
       "    </tr>\n",
       "    <tr>\n",
       "      <th>3</th>\n",
       "      <td>Aaron Huston</td>\n",
       "      <td>1.0</td>\n",
       "      <td>92194.0</td>\n",
       "      <td>2010-05-01</td>\n",
       "      <td>1720.0</td>\n",
       "      <td>1720.0</td>\n",
       "      <td>0.0</td>\n",
       "      <td>0.0</td>\n",
       "      <td>0.0</td>\n",
       "      <td>0.0</td>\n",
       "      <td>0.0</td>\n",
       "      <td>1.0</td>\n",
       "      <td>1.0</td>\n",
       "      <td>1.0</td>\n",
       "    </tr>\n",
       "    <tr>\n",
       "      <th>4</th>\n",
       "      <td>Aaron Huston</td>\n",
       "      <td>1.0</td>\n",
       "      <td>92194.0</td>\n",
       "      <td>2010-06-01</td>\n",
       "      <td>1720.0</td>\n",
       "      <td>1720.0</td>\n",
       "      <td>0.0</td>\n",
       "      <td>0.0</td>\n",
       "      <td>0.0</td>\n",
       "      <td>0.0</td>\n",
       "      <td>1.0</td>\n",
       "      <td>1.0</td>\n",
       "      <td>1.0</td>\n",
       "      <td>1.0</td>\n",
       "    </tr>\n",
       "    <tr>\n",
       "      <th>5</th>\n",
       "      <td>Aaron Huston</td>\n",
       "      <td>1.0</td>\n",
       "      <td>92194.0</td>\n",
       "      <td>2010-07-01</td>\n",
       "      <td>1720.0</td>\n",
       "      <td>1720.0</td>\n",
       "      <td>0.0</td>\n",
       "      <td>0.0</td>\n",
       "      <td>0.0</td>\n",
       "      <td>1.0</td>\n",
       "      <td>1.0</td>\n",
       "      <td>1.0</td>\n",
       "      <td>1.0</td>\n",
       "      <td>1.0</td>\n",
       "    </tr>\n",
       "    <tr>\n",
       "      <th>6</th>\n",
       "      <td>Aaron Huston</td>\n",
       "      <td>1.0</td>\n",
       "      <td>92194.0</td>\n",
       "      <td>2010-08-01</td>\n",
       "      <td>1720.0</td>\n",
       "      <td>1720.0</td>\n",
       "      <td>0.0</td>\n",
       "      <td>0.0</td>\n",
       "      <td>1.0</td>\n",
       "      <td>1.0</td>\n",
       "      <td>1.0</td>\n",
       "      <td>1.0</td>\n",
       "      <td>1.0</td>\n",
       "      <td>1.0</td>\n",
       "    </tr>\n",
       "    <tr>\n",
       "      <th>7</th>\n",
       "      <td>Aaron Huston</td>\n",
       "      <td>1.0</td>\n",
       "      <td>92194.0</td>\n",
       "      <td>2010-09-01</td>\n",
       "      <td>1720.0</td>\n",
       "      <td>0.0</td>\n",
       "      <td>1720.0</td>\n",
       "      <td>1.0</td>\n",
       "      <td>1.0</td>\n",
       "      <td>1.0</td>\n",
       "      <td>1.0</td>\n",
       "      <td>1.0</td>\n",
       "      <td>1.0</td>\n",
       "      <td>1.0</td>\n",
       "    </tr>\n",
       "  </tbody>\n",
       "</table>\n",
       "</div>"
      ],
      "text/plain": [
       "           name  house_id      zip payment_date    rent  payment_amount  \\\n",
       "0  Aaron Huston       1.0  92194.0   2010-02-01  1720.0          1720.0   \n",
       "1  Aaron Huston       1.0  92194.0   2010-03-01  1720.0          1720.0   \n",
       "2  Aaron Huston       1.0  92194.0   2010-04-01  1720.0          1720.0   \n",
       "3  Aaron Huston       1.0  92194.0   2010-05-01  1720.0          1720.0   \n",
       "4  Aaron Huston       1.0  92194.0   2010-06-01  1720.0          1720.0   \n",
       "5  Aaron Huston       1.0  92194.0   2010-07-01  1720.0          1720.0   \n",
       "6  Aaron Huston       1.0  92194.0   2010-08-01  1720.0          1720.0   \n",
       "7  Aaron Huston       1.0  92194.0   2010-09-01  1720.0             0.0   \n",
       "\n",
       "     owed  owed_months   t1   t2   t3   t4   t5   t6  \n",
       "0     0.0          0.0  0.0  0.0  0.0  0.0  0.0  0.0  \n",
       "1     0.0          0.0  0.0  0.0  0.0  0.0  0.0  1.0  \n",
       "2     0.0          0.0  0.0  0.0  0.0  0.0  1.0  1.0  \n",
       "3     0.0          0.0  0.0  0.0  0.0  1.0  1.0  1.0  \n",
       "4     0.0          0.0  0.0  0.0  1.0  1.0  1.0  1.0  \n",
       "5     0.0          0.0  0.0  1.0  1.0  1.0  1.0  1.0  \n",
       "6     0.0          0.0  1.0  1.0  1.0  1.0  1.0  1.0  \n",
       "7  1720.0          1.0  1.0  1.0  1.0  1.0  1.0  1.0  "
      ]
     },
     "execution_count": 220,
     "metadata": {},
     "output_type": "execute_result"
    }
   ],
   "source": [
    "timeseries_columns=[]\n",
    "for i in range(1,7): #For 6 months in the future\n",
    "  timeseries_columns+=['t'+str(i)]\n",
    "  df['t'+str(i)]=df.groupby(['name'])['owed_months'].shift(-(i))\n",
    "#remove missing data (columns that are less than 6 months from final month of tenancy) \n",
    "df = df.dropna()\n",
    "df.head(8)"
   ]
  },
  {
   "cell_type": "code",
   "execution_count": 223,
   "metadata": {},
   "outputs": [],
   "source": [
    "#backup=df\n",
    "df=backup"
   ]
  },
  {
   "cell_type": "markdown",
   "metadata": {
    "colab_type": "text",
    "id": "2SSSxyZsNsnd"
   },
   "source": [
    "Now we create a couple of functions to classify our data."
   ]
  },
  {
   "cell_type": "code",
   "execution_count": 224,
   "metadata": {
    "colab": {
     "base_uri": "https://localhost:8080/",
     "height": 204
    },
    "colab_type": "code",
    "id": "IEEwek4FJUcU",
    "outputId": "3eba72bd-034c-4a99-abdd-16062466da77"
   },
   "outputs": [
    {
     "data": {
      "text/html": [
       "<div>\n",
       "<style scoped>\n",
       "    .dataframe tbody tr th:only-of-type {\n",
       "        vertical-align: middle;\n",
       "    }\n",
       "\n",
       "    .dataframe tbody tr th {\n",
       "        vertical-align: top;\n",
       "    }\n",
       "\n",
       "    .dataframe thead th {\n",
       "        text-align: right;\n",
       "    }\n",
       "</style>\n",
       "<table border=\"1\" class=\"dataframe\">\n",
       "  <thead>\n",
       "    <tr style=\"text-align: right;\">\n",
       "      <th></th>\n",
       "      <th>name</th>\n",
       "      <th>house_id</th>\n",
       "      <th>zip</th>\n",
       "      <th>payment_date</th>\n",
       "      <th>rent</th>\n",
       "      <th>owed</th>\n",
       "      <th>owed_months</th>\n",
       "      <th>credit_score</th>\n",
       "      <th>credit_score_short</th>\n",
       "    </tr>\n",
       "  </thead>\n",
       "  <tbody>\n",
       "    <tr>\n",
       "      <th>0</th>\n",
       "      <td>Aaron Huston</td>\n",
       "      <td>1.0</td>\n",
       "      <td>92194.0</td>\n",
       "      <td>2010-02-01</td>\n",
       "      <td>1720.0</td>\n",
       "      <td>0.0</td>\n",
       "      <td>0.0</td>\n",
       "      <td>A</td>\n",
       "      <td>A</td>\n",
       "    </tr>\n",
       "    <tr>\n",
       "      <th>1</th>\n",
       "      <td>Aaron Huston</td>\n",
       "      <td>1.0</td>\n",
       "      <td>92194.0</td>\n",
       "      <td>2010-03-01</td>\n",
       "      <td>1720.0</td>\n",
       "      <td>0.0</td>\n",
       "      <td>0.0</td>\n",
       "      <td>A</td>\n",
       "      <td>A</td>\n",
       "    </tr>\n",
       "    <tr>\n",
       "      <th>2</th>\n",
       "      <td>Aaron Huston</td>\n",
       "      <td>1.0</td>\n",
       "      <td>92194.0</td>\n",
       "      <td>2010-04-01</td>\n",
       "      <td>1720.0</td>\n",
       "      <td>0.0</td>\n",
       "      <td>0.0</td>\n",
       "      <td>A</td>\n",
       "      <td>A</td>\n",
       "    </tr>\n",
       "    <tr>\n",
       "      <th>3</th>\n",
       "      <td>Aaron Huston</td>\n",
       "      <td>1.0</td>\n",
       "      <td>92194.0</td>\n",
       "      <td>2010-05-01</td>\n",
       "      <td>1720.0</td>\n",
       "      <td>0.0</td>\n",
       "      <td>0.0</td>\n",
       "      <td>A</td>\n",
       "      <td>A</td>\n",
       "    </tr>\n",
       "    <tr>\n",
       "      <th>4</th>\n",
       "      <td>Aaron Huston</td>\n",
       "      <td>1.0</td>\n",
       "      <td>92194.0</td>\n",
       "      <td>2010-06-01</td>\n",
       "      <td>1720.0</td>\n",
       "      <td>0.0</td>\n",
       "      <td>0.0</td>\n",
       "      <td>A</td>\n",
       "      <td>A</td>\n",
       "    </tr>\n",
       "  </tbody>\n",
       "</table>\n",
       "</div>"
      ],
      "text/plain": [
       "           name  house_id      zip payment_date    rent  owed  owed_months  \\\n",
       "0  Aaron Huston       1.0  92194.0   2010-02-01  1720.0   0.0          0.0   \n",
       "1  Aaron Huston       1.0  92194.0   2010-03-01  1720.0   0.0          0.0   \n",
       "2  Aaron Huston       1.0  92194.0   2010-04-01  1720.0   0.0          0.0   \n",
       "3  Aaron Huston       1.0  92194.0   2010-05-01  1720.0   0.0          0.0   \n",
       "4  Aaron Huston       1.0  92194.0   2010-06-01  1720.0   0.0          0.0   \n",
       "\n",
       "  credit_score credit_score_short  \n",
       "0            A                  A  \n",
       "1            A                  A  \n",
       "2            A                  A  \n",
       "3            A                  A  \n",
       "4            A                  A  "
      ]
     },
     "execution_count": 224,
     "metadata": {},
     "output_type": "execute_result"
    }
   ],
   "source": [
    "#Define a function that classifies our data\n",
    "def credit_score(row):\n",
    "  #Max and min Threshold for debt\n",
    "  low_threshold=0\n",
    "  high_threshold=4\n",
    "  min_value=row[timeseries_columns].min()\n",
    "  max_value=row[timeseries_columns].max()\n",
    "  start_value=row[timeseries_columns[0]]\n",
    "  last_value=row[timeseries_columns[-1]]\n",
    "  #If slope is flat\n",
    "  if (min_value == max_value):\n",
    "    if last_value>=high_threshold:\n",
    "      return \"B\"\n",
    "    elif last_value>=low_threshold:\n",
    "      return \"A\"\n",
    "    else:\n",
    "      return \"A\"\n",
    "  #If slope is positive (getting more debt)\n",
    "  elif (min_value == start_value) and (max_value == last_value):\n",
    "    if last_value >= high_threshold:\n",
    "      return \"B\"\n",
    "    elif last_value >= low_threshold:\n",
    "      return \"A\"\n",
    "    else:\n",
    "      return \"A\"\n",
    "  #If slope is negative (decreasing debt)\n",
    "  elif (min_value == last_value) and (max_value == start_value):\n",
    "    if last_value >= high_threshold:\n",
    "      return \"A\"\n",
    "    elif last_value >= low_threshold:\n",
    "      return \"A\"\n",
    "    else:\n",
    "      return \"A\"\n",
    "  #If concave\n",
    "  elif (max_value != start_value) and (max_value != last_value) and (min_value == last_value or min_value == start_value):\n",
    "    if last_value >= high_threshold:\n",
    "      return \"A\"\n",
    "    elif last_value>=low_threshold:\n",
    "      return \"A\"\n",
    "    else:\n",
    "      return \"A\"\n",
    "  #If convex\n",
    "  elif (min_value != start_value) and (min_value != last_value) and (max_value == last_value or max_value == start_value):\n",
    "    if last_value >= high_threshold:\n",
    "      return \"A\"\n",
    "    elif last_value >= low_threshold:\n",
    "      return \"A\"\n",
    "    else:\n",
    "      return \"A\"\n",
    "  #If wigly\n",
    "  else:\n",
    "    if last_value>=high_threshold:\n",
    "      return \"B\"\n",
    "    elif last_value >= low_threshold:\n",
    "      return \"A\"\n",
    "    else:\n",
    "      return \"A\"\n",
    "    \n",
    "#Apply the function\n",
    "df['credit_score']=df.apply(credit_score, axis=1)\n",
    "#Change the columns in the function to only 3 months and apply again\n",
    "timeseries_columns=['t1','t2','t3']\n",
    "df['credit_score_short']=df.apply(credit_score, axis=1)\n",
    "\n",
    "#Reduce the columns\n",
    "df=df[['name','house_id','zip','payment_date','rent','owed','owed_months','credit_score','credit_score_short']]\n",
    "df.head(5)"
   ]
  },
  {
   "cell_type": "code",
   "execution_count": 227,
   "metadata": {
    "colab": {
     "base_uri": "https://localhost:8080/",
     "height": 288
    },
    "colab_type": "code",
    "id": "nr4Ed9nhXWJ4",
    "outputId": "4d7d4c0f-dede-4ca4-e10c-7b0e3149e9f6"
   },
   "outputs": [
    {
     "data": {
      "text/plain": [
       "<matplotlib.axes._subplots.AxesSubplot at 0x128871e10>"
      ]
     },
     "execution_count": 227,
     "metadata": {},
     "output_type": "execute_result"
    },
    {
     "data": {
      "image/png": "[encoded data removed]",
      "text/plain": [
       "<Figure size 432x288 with 1 Axes>"
      ]
     },
     "metadata": {},
     "output_type": "display_data"
    }
   ],
   "source": [
    "#Check the distribution\n",
    "df['credit_score'].value_counts().sort_index().plot.bar()"
   ]
  },
  {
   "cell_type": "markdown",
   "metadata": {
    "colab_type": "text",
    "id": "kspKkWHZJpxi"
   },
   "source": [
    "### Derive the Past data\n",
    "\n",
    "Now that we have the column that we want to predict, we turn our attention to creating our predictors that will be used to classify the datapoints. \n",
    "\n",
    "We commence by simply calculating the rounded level of debt for the past 6 months. "
   ]
  },
  {
   "cell_type": "code",
   "execution_count": 228,
   "metadata": {
    "colab": {
     "base_uri": "https://localhost:8080/",
     "height": 453
    },
    "colab_type": "code",
    "id": "iaBdeQrGTj3I",
    "outputId": "3052eec6-8903-4029-8636-7313d93c1862"
   },
   "outputs": [
    {
     "data": {
      "text/html": [
       "<div>\n",
       "<style scoped>\n",
       "    .dataframe tbody tr th:only-of-type {\n",
       "        vertical-align: middle;\n",
       "    }\n",
       "\n",
       "    .dataframe tbody tr th {\n",
       "        vertical-align: top;\n",
       "    }\n",
       "\n",
       "    .dataframe thead th {\n",
       "        text-align: right;\n",
       "    }\n",
       "</style>\n",
       "<table border=\"1\" class=\"dataframe\">\n",
       "  <thead>\n",
       "    <tr style=\"text-align: right;\">\n",
       "      <th></th>\n",
       "      <th>name</th>\n",
       "      <th>house_id</th>\n",
       "      <th>zip</th>\n",
       "      <th>payment_date</th>\n",
       "      <th>rent</th>\n",
       "      <th>owed</th>\n",
       "      <th>owed_months</th>\n",
       "      <th>credit_score</th>\n",
       "      <th>credit_score_short</th>\n",
       "      <th>t5</th>\n",
       "      <th>t4</th>\n",
       "      <th>t3</th>\n",
       "      <th>t2</th>\n",
       "      <th>t1</th>\n",
       "      <th>t0</th>\n",
       "      <th>past_credit_score</th>\n",
       "      <th>max_owed</th>\n",
       "      <th>min_owed</th>\n",
       "    </tr>\n",
       "  </thead>\n",
       "  <tbody>\n",
       "    <tr>\n",
       "      <th>5</th>\n",
       "      <td>Aaron Huston</td>\n",
       "      <td>1.0</td>\n",
       "      <td>92194.0</td>\n",
       "      <td>2010-07-01</td>\n",
       "      <td>1720.0</td>\n",
       "      <td>0.0</td>\n",
       "      <td>0.0</td>\n",
       "      <td>A</td>\n",
       "      <td>A</td>\n",
       "      <td>0.0</td>\n",
       "      <td>0.0</td>\n",
       "      <td>0.0</td>\n",
       "      <td>0.0</td>\n",
       "      <td>0.0</td>\n",
       "      <td>0.0</td>\n",
       "      <td>A</td>\n",
       "      <td>0.0</td>\n",
       "      <td>0.0</td>\n",
       "    </tr>\n",
       "    <tr>\n",
       "      <th>6</th>\n",
       "      <td>Aaron Huston</td>\n",
       "      <td>1.0</td>\n",
       "      <td>92194.0</td>\n",
       "      <td>2010-08-01</td>\n",
       "      <td>1720.0</td>\n",
       "      <td>0.0</td>\n",
       "      <td>0.0</td>\n",
       "      <td>A</td>\n",
       "      <td>A</td>\n",
       "      <td>0.0</td>\n",
       "      <td>0.0</td>\n",
       "      <td>0.0</td>\n",
       "      <td>0.0</td>\n",
       "      <td>0.0</td>\n",
       "      <td>0.0</td>\n",
       "      <td>A</td>\n",
       "      <td>0.0</td>\n",
       "      <td>0.0</td>\n",
       "    </tr>\n",
       "    <tr>\n",
       "      <th>7</th>\n",
       "      <td>Aaron Huston</td>\n",
       "      <td>1.0</td>\n",
       "      <td>92194.0</td>\n",
       "      <td>2010-09-01</td>\n",
       "      <td>1720.0</td>\n",
       "      <td>1720.0</td>\n",
       "      <td>1.0</td>\n",
       "      <td>A</td>\n",
       "      <td>A</td>\n",
       "      <td>0.0</td>\n",
       "      <td>0.0</td>\n",
       "      <td>0.0</td>\n",
       "      <td>0.0</td>\n",
       "      <td>0.0</td>\n",
       "      <td>1.0</td>\n",
       "      <td>A</td>\n",
       "      <td>1.0</td>\n",
       "      <td>0.0</td>\n",
       "    </tr>\n",
       "    <tr>\n",
       "      <th>8</th>\n",
       "      <td>Aaron Huston</td>\n",
       "      <td>1.0</td>\n",
       "      <td>92194.0</td>\n",
       "      <td>2010-10-01</td>\n",
       "      <td>1720.0</td>\n",
       "      <td>1720.0</td>\n",
       "      <td>1.0</td>\n",
       "      <td>A</td>\n",
       "      <td>A</td>\n",
       "      <td>0.0</td>\n",
       "      <td>0.0</td>\n",
       "      <td>0.0</td>\n",
       "      <td>0.0</td>\n",
       "      <td>1.0</td>\n",
       "      <td>1.0</td>\n",
       "      <td>A</td>\n",
       "      <td>1.0</td>\n",
       "      <td>0.0</td>\n",
       "    </tr>\n",
       "    <tr>\n",
       "      <th>9</th>\n",
       "      <td>Aaron Huston</td>\n",
       "      <td>1.0</td>\n",
       "      <td>92194.0</td>\n",
       "      <td>2010-11-01</td>\n",
       "      <td>1720.0</td>\n",
       "      <td>1720.0</td>\n",
       "      <td>1.0</td>\n",
       "      <td>A</td>\n",
       "      <td>A</td>\n",
       "      <td>0.0</td>\n",
       "      <td>0.0</td>\n",
       "      <td>0.0</td>\n",
       "      <td>1.0</td>\n",
       "      <td>1.0</td>\n",
       "      <td>1.0</td>\n",
       "      <td>A</td>\n",
       "      <td>1.0</td>\n",
       "      <td>0.0</td>\n",
       "    </tr>\n",
       "    <tr>\n",
       "      <th>10</th>\n",
       "      <td>Aaron Huston</td>\n",
       "      <td>1.0</td>\n",
       "      <td>92194.0</td>\n",
       "      <td>2010-12-01</td>\n",
       "      <td>1720.0</td>\n",
       "      <td>1720.0</td>\n",
       "      <td>1.0</td>\n",
       "      <td>A</td>\n",
       "      <td>A</td>\n",
       "      <td>0.0</td>\n",
       "      <td>0.0</td>\n",
       "      <td>1.0</td>\n",
       "      <td>1.0</td>\n",
       "      <td>1.0</td>\n",
       "      <td>1.0</td>\n",
       "      <td>A</td>\n",
       "      <td>1.0</td>\n",
       "      <td>0.0</td>\n",
       "    </tr>\n",
       "    <tr>\n",
       "      <th>11</th>\n",
       "      <td>Aaron Huston</td>\n",
       "      <td>1.0</td>\n",
       "      <td>92194.0</td>\n",
       "      <td>2011-01-01</td>\n",
       "      <td>1720.0</td>\n",
       "      <td>1720.0</td>\n",
       "      <td>1.0</td>\n",
       "      <td>A</td>\n",
       "      <td>A</td>\n",
       "      <td>0.0</td>\n",
       "      <td>1.0</td>\n",
       "      <td>1.0</td>\n",
       "      <td>1.0</td>\n",
       "      <td>1.0</td>\n",
       "      <td>1.0</td>\n",
       "      <td>A</td>\n",
       "      <td>1.0</td>\n",
       "      <td>0.0</td>\n",
       "    </tr>\n",
       "    <tr>\n",
       "      <th>12</th>\n",
       "      <td>Aaron Huston</td>\n",
       "      <td>1.0</td>\n",
       "      <td>92194.0</td>\n",
       "      <td>2011-02-01</td>\n",
       "      <td>1720.0</td>\n",
       "      <td>1720.0</td>\n",
       "      <td>1.0</td>\n",
       "      <td>A</td>\n",
       "      <td>A</td>\n",
       "      <td>1.0</td>\n",
       "      <td>1.0</td>\n",
       "      <td>1.0</td>\n",
       "      <td>1.0</td>\n",
       "      <td>1.0</td>\n",
       "      <td>1.0</td>\n",
       "      <td>A</td>\n",
       "      <td>1.0</td>\n",
       "      <td>1.0</td>\n",
       "    </tr>\n",
       "  </tbody>\n",
       "</table>\n",
       "</div>"
      ],
      "text/plain": [
       "            name  house_id      zip payment_date    rent    owed  owed_months  \\\n",
       "5   Aaron Huston       1.0  92194.0   2010-07-01  1720.0     0.0          0.0   \n",
       "6   Aaron Huston       1.0  92194.0   2010-08-01  1720.0     0.0          0.0   \n",
       "7   Aaron Huston       1.0  92194.0   2010-09-01  1720.0  1720.0          1.0   \n",
       "8   Aaron Huston       1.0  92194.0   2010-10-01  1720.0  1720.0          1.0   \n",
       "9   Aaron Huston       1.0  92194.0   2010-11-01  1720.0  1720.0          1.0   \n",
       "10  Aaron Huston       1.0  92194.0   2010-12-01  1720.0  1720.0          1.0   \n",
       "11  Aaron Huston       1.0  92194.0   2011-01-01  1720.0  1720.0          1.0   \n",
       "12  Aaron Huston       1.0  92194.0   2011-02-01  1720.0  1720.0          1.0   \n",
       "\n",
       "   credit_score credit_score_short   t5   t4   t3   t2   t1   t0  \\\n",
       "5             A                  A  0.0  0.0  0.0  0.0  0.0  0.0   \n",
       "6             A                  A  0.0  0.0  0.0  0.0  0.0  0.0   \n",
       "7             A                  A  0.0  0.0  0.0  0.0  0.0  1.0   \n",
       "8             A                  A  0.0  0.0  0.0  0.0  1.0  1.0   \n",
       "9             A                  A  0.0  0.0  0.0  1.0  1.0  1.0   \n",
       "10            A                  A  0.0  0.0  1.0  1.0  1.0  1.0   \n",
       "11            A                  A  0.0  1.0  1.0  1.0  1.0  1.0   \n",
       "12            A                  A  1.0  1.0  1.0  1.0  1.0  1.0   \n",
       "\n",
       "   past_credit_score  max_owed  min_owed  \n",
       "5                  A       0.0       0.0  \n",
       "6                  A       0.0       0.0  \n",
       "7                  A       1.0       0.0  \n",
       "8                  A       1.0       0.0  \n",
       "9                  A       1.0       0.0  \n",
       "10                 A       1.0       0.0  \n",
       "11                 A       1.0       0.0  \n",
       "12                 A       1.0       1.0  "
      ]
     },
     "execution_count": 228,
     "metadata": {},
     "output_type": "execute_result"
    }
   ],
   "source": [
    "timeseries_columns=[]\n",
    "for i in range(5,-1,-1): #For 6 months in the past\n",
    "  timeseries_columns+=['t'+str(i)]\n",
    "  df['t'+str(i)]=df.groupby(['name'])['owed_months'].shift(i)\n",
    "  df['t'+str(i)]=df['t'+str(i)]#.round(0) #We dont need to round for a Gaussian NB\n",
    "#remove missing data (columns that are less than 6 months from final month of tenancy) \n",
    "df = df.dropna()\n",
    "\n",
    "#Classify the past 6 month score\n",
    "df['past_credit_score']=df.apply(credit_score, axis=1)\n",
    "\n",
    "#Add the max and min owed\n",
    "df['max_owed']=df[timeseries_columns].max(axis=1)\n",
    "df['min_owed']=df[timeseries_columns].min(axis=1)\n",
    "df.head(8)"
   ]
  },
  {
   "cell_type": "markdown",
   "metadata": {},
   "source": [
    "### Append the postode data\n",
    "\n",
    "Now we add the standardized data from the IRS to each row based on their postcode"
   ]
  },
  {
   "cell_type": "code",
   "execution_count": 229,
   "metadata": {},
   "outputs": [
    {
     "data": {
      "text/html": [
       "<div>\n",
       "<style scoped>\n",
       "    .dataframe tbody tr th:only-of-type {\n",
       "        vertical-align: middle;\n",
       "    }\n",
       "\n",
       "    .dataframe tbody tr th {\n",
       "        vertical-align: top;\n",
       "    }\n",
       "\n",
       "    .dataframe thead th {\n",
       "        text-align: right;\n",
       "    }\n",
       "</style>\n",
       "<table border=\"1\" class=\"dataframe\">\n",
       "  <thead>\n",
       "    <tr style=\"text-align: right;\">\n",
       "      <th></th>\n",
       "      <th>name</th>\n",
       "      <th>house_id</th>\n",
       "      <th>zip</th>\n",
       "      <th>payment_date</th>\n",
       "      <th>rent</th>\n",
       "      <th>owed</th>\n",
       "      <th>owed_months</th>\n",
       "      <th>credit_score</th>\n",
       "      <th>credit_score_short</th>\n",
       "      <th>t5</th>\n",
       "      <th>...</th>\n",
       "      <th>t1</th>\n",
       "      <th>t0</th>\n",
       "      <th>past_credit_score</th>\n",
       "      <th>max_owed</th>\n",
       "      <th>min_owed</th>\n",
       "      <th>ZIPCODE</th>\n",
       "      <th>population</th>\n",
       "      <th>earnings</th>\n",
       "      <th>salaries</th>\n",
       "      <th>marriages</th>\n",
       "    </tr>\n",
       "  </thead>\n",
       "  <tbody>\n",
       "    <tr>\n",
       "      <th>0</th>\n",
       "      <td>Aaron Huston</td>\n",
       "      <td>1.0</td>\n",
       "      <td>92194</td>\n",
       "      <td>2010-07-01</td>\n",
       "      <td>1720.0</td>\n",
       "      <td>0.0</td>\n",
       "      <td>0.0</td>\n",
       "      <td>A</td>\n",
       "      <td>A</td>\n",
       "      <td>0.0</td>\n",
       "      <td>...</td>\n",
       "      <td>0.0</td>\n",
       "      <td>0.0</td>\n",
       "      <td>A</td>\n",
       "      <td>0.0</td>\n",
       "      <td>0.0</td>\n",
       "      <td>92117.92092</td>\n",
       "      <td>0.010261</td>\n",
       "      <td>-0.016097</td>\n",
       "      <td>-0.007373</td>\n",
       "      <td>0.34604</td>\n",
       "    </tr>\n",
       "    <tr>\n",
       "      <th>1</th>\n",
       "      <td>Aaron Huston</td>\n",
       "      <td>1.0</td>\n",
       "      <td>92194</td>\n",
       "      <td>2010-08-01</td>\n",
       "      <td>1720.0</td>\n",
       "      <td>0.0</td>\n",
       "      <td>0.0</td>\n",
       "      <td>A</td>\n",
       "      <td>A</td>\n",
       "      <td>0.0</td>\n",
       "      <td>...</td>\n",
       "      <td>0.0</td>\n",
       "      <td>0.0</td>\n",
       "      <td>A</td>\n",
       "      <td>0.0</td>\n",
       "      <td>0.0</td>\n",
       "      <td>92117.92092</td>\n",
       "      <td>0.010261</td>\n",
       "      <td>-0.016097</td>\n",
       "      <td>-0.007373</td>\n",
       "      <td>0.34604</td>\n",
       "    </tr>\n",
       "    <tr>\n",
       "      <th>2</th>\n",
       "      <td>Aaron Huston</td>\n",
       "      <td>1.0</td>\n",
       "      <td>92194</td>\n",
       "      <td>2010-09-01</td>\n",
       "      <td>1720.0</td>\n",
       "      <td>1720.0</td>\n",
       "      <td>1.0</td>\n",
       "      <td>A</td>\n",
       "      <td>A</td>\n",
       "      <td>0.0</td>\n",
       "      <td>...</td>\n",
       "      <td>0.0</td>\n",
       "      <td>1.0</td>\n",
       "      <td>A</td>\n",
       "      <td>1.0</td>\n",
       "      <td>0.0</td>\n",
       "      <td>92117.92092</td>\n",
       "      <td>0.010261</td>\n",
       "      <td>-0.016097</td>\n",
       "      <td>-0.007373</td>\n",
       "      <td>0.34604</td>\n",
       "    </tr>\n",
       "    <tr>\n",
       "      <th>3</th>\n",
       "      <td>Aaron Huston</td>\n",
       "      <td>1.0</td>\n",
       "      <td>92194</td>\n",
       "      <td>2010-10-01</td>\n",
       "      <td>1720.0</td>\n",
       "      <td>1720.0</td>\n",
       "      <td>1.0</td>\n",
       "      <td>A</td>\n",
       "      <td>A</td>\n",
       "      <td>0.0</td>\n",
       "      <td>...</td>\n",
       "      <td>1.0</td>\n",
       "      <td>1.0</td>\n",
       "      <td>A</td>\n",
       "      <td>1.0</td>\n",
       "      <td>0.0</td>\n",
       "      <td>92117.92092</td>\n",
       "      <td>0.010261</td>\n",
       "      <td>-0.016097</td>\n",
       "      <td>-0.007373</td>\n",
       "      <td>0.34604</td>\n",
       "    </tr>\n",
       "    <tr>\n",
       "      <th>4</th>\n",
       "      <td>Aaron Huston</td>\n",
       "      <td>1.0</td>\n",
       "      <td>92194</td>\n",
       "      <td>2010-11-01</td>\n",
       "      <td>1720.0</td>\n",
       "      <td>1720.0</td>\n",
       "      <td>1.0</td>\n",
       "      <td>A</td>\n",
       "      <td>A</td>\n",
       "      <td>0.0</td>\n",
       "      <td>...</td>\n",
       "      <td>1.0</td>\n",
       "      <td>1.0</td>\n",
       "      <td>A</td>\n",
       "      <td>1.0</td>\n",
       "      <td>0.0</td>\n",
       "      <td>92117.92092</td>\n",
       "      <td>0.010261</td>\n",
       "      <td>-0.016097</td>\n",
       "      <td>-0.007373</td>\n",
       "      <td>0.34604</td>\n",
       "    </tr>\n",
       "  </tbody>\n",
       "</table>\n",
       "<p>5 rows × 23 columns</p>\n",
       "</div>"
      ],
      "text/plain": [
       "           name  house_id    zip payment_date    rent    owed  owed_months  \\\n",
       "0  Aaron Huston       1.0  92194   2010-07-01  1720.0     0.0          0.0   \n",
       "1  Aaron Huston       1.0  92194   2010-08-01  1720.0     0.0          0.0   \n",
       "2  Aaron Huston       1.0  92194   2010-09-01  1720.0  1720.0          1.0   \n",
       "3  Aaron Huston       1.0  92194   2010-10-01  1720.0  1720.0          1.0   \n",
       "4  Aaron Huston       1.0  92194   2010-11-01  1720.0  1720.0          1.0   \n",
       "\n",
       "  credit_score credit_score_short   t5  ...   t1   t0  past_credit_score  \\\n",
       "0            A                  A  0.0  ...  0.0  0.0                  A   \n",
       "1            A                  A  0.0  ...  0.0  0.0                  A   \n",
       "2            A                  A  0.0  ...  0.0  1.0                  A   \n",
       "3            A                  A  0.0  ...  1.0  1.0                  A   \n",
       "4            A                  A  0.0  ...  1.0  1.0                  A   \n",
       "\n",
       "   max_owed  min_owed      ZIPCODE  population  earnings  salaries  marriages  \n",
       "0       0.0       0.0  92117.92092    0.010261 -0.016097 -0.007373    0.34604  \n",
       "1       0.0       0.0  92117.92092    0.010261 -0.016097 -0.007373    0.34604  \n",
       "2       1.0       0.0  92117.92092    0.010261 -0.016097 -0.007373    0.34604  \n",
       "3       1.0       0.0  92117.92092    0.010261 -0.016097 -0.007373    0.34604  \n",
       "4       1.0       0.0  92117.92092    0.010261 -0.016097 -0.007373    0.34604  \n",
       "\n",
       "[5 rows x 23 columns]"
      ]
     },
     "execution_count": 229,
     "metadata": {},
     "output_type": "execute_result"
    }
   ],
   "source": [
    "df['zip']=df['zip'].astype('int64')\n",
    "df = pd.merge(df, df_geo, left_on='zip', right_on='ZIPCODE', how='left')\n",
    "df=df.fillna(df.mean())\n",
    "df.head(5)"
   ]
  },
  {
   "cell_type": "markdown",
   "metadata": {
    "colab_type": "text",
    "id": "t0G2xOaK0I3v"
   },
   "source": [
    "### Binarize the data\n"
   ]
  },
  {
   "cell_type": "code",
   "execution_count": 230,
   "metadata": {
    "colab": {
     "base_uri": "https://localhost:8080/",
     "height": 309
    },
    "colab_type": "code",
    "id": "Bdb8r2IYvecz",
    "outputId": "69aad042-a9a4-49e6-9127-f26cf846da72"
   },
   "outputs": [
    {
     "data": {
      "text/html": [
       "<div>\n",
       "<style scoped>\n",
       "    .dataframe tbody tr th:only-of-type {\n",
       "        vertical-align: middle;\n",
       "    }\n",
       "\n",
       "    .dataframe tbody tr th {\n",
       "        vertical-align: top;\n",
       "    }\n",
       "\n",
       "    .dataframe thead th {\n",
       "        text-align: right;\n",
       "    }\n",
       "</style>\n",
       "<table border=\"1\" class=\"dataframe\">\n",
       "  <thead>\n",
       "    <tr style=\"text-align: right;\">\n",
       "      <th></th>\n",
       "      <th>name</th>\n",
       "      <th>house_id</th>\n",
       "      <th>zip</th>\n",
       "      <th>payment_date</th>\n",
       "      <th>rent</th>\n",
       "      <th>owed</th>\n",
       "      <th>owed_months</th>\n",
       "      <th>credit_score</th>\n",
       "      <th>credit_score_short</th>\n",
       "      <th>t5</th>\n",
       "      <th>...</th>\n",
       "      <th>t0</th>\n",
       "      <th>past_credit_score</th>\n",
       "      <th>max_owed</th>\n",
       "      <th>min_owed</th>\n",
       "      <th>ZIPCODE</th>\n",
       "      <th>population</th>\n",
       "      <th>earnings</th>\n",
       "      <th>salaries</th>\n",
       "      <th>marriages</th>\n",
       "      <th>A</th>\n",
       "    </tr>\n",
       "  </thead>\n",
       "  <tbody>\n",
       "    <tr>\n",
       "      <th>0</th>\n",
       "      <td>Aaron Huston</td>\n",
       "      <td>1.0</td>\n",
       "      <td>92194</td>\n",
       "      <td>2010-07-01</td>\n",
       "      <td>1720.0</td>\n",
       "      <td>0.0</td>\n",
       "      <td>0.0</td>\n",
       "      <td>A</td>\n",
       "      <td>A</td>\n",
       "      <td>0.0</td>\n",
       "      <td>...</td>\n",
       "      <td>0.0</td>\n",
       "      <td>A</td>\n",
       "      <td>0.0</td>\n",
       "      <td>0.0</td>\n",
       "      <td>92117.92092</td>\n",
       "      <td>0.010261</td>\n",
       "      <td>-0.016097</td>\n",
       "      <td>-0.007373</td>\n",
       "      <td>0.34604</td>\n",
       "      <td>0</td>\n",
       "    </tr>\n",
       "    <tr>\n",
       "      <th>1</th>\n",
       "      <td>Aaron Huston</td>\n",
       "      <td>1.0</td>\n",
       "      <td>92194</td>\n",
       "      <td>2010-08-01</td>\n",
       "      <td>1720.0</td>\n",
       "      <td>0.0</td>\n",
       "      <td>0.0</td>\n",
       "      <td>A</td>\n",
       "      <td>A</td>\n",
       "      <td>0.0</td>\n",
       "      <td>...</td>\n",
       "      <td>0.0</td>\n",
       "      <td>A</td>\n",
       "      <td>0.0</td>\n",
       "      <td>0.0</td>\n",
       "      <td>92117.92092</td>\n",
       "      <td>0.010261</td>\n",
       "      <td>-0.016097</td>\n",
       "      <td>-0.007373</td>\n",
       "      <td>0.34604</td>\n",
       "      <td>0</td>\n",
       "    </tr>\n",
       "    <tr>\n",
       "      <th>2</th>\n",
       "      <td>Aaron Huston</td>\n",
       "      <td>1.0</td>\n",
       "      <td>92194</td>\n",
       "      <td>2010-09-01</td>\n",
       "      <td>1720.0</td>\n",
       "      <td>1720.0</td>\n",
       "      <td>1.0</td>\n",
       "      <td>A</td>\n",
       "      <td>A</td>\n",
       "      <td>0.0</td>\n",
       "      <td>...</td>\n",
       "      <td>1.0</td>\n",
       "      <td>A</td>\n",
       "      <td>1.0</td>\n",
       "      <td>0.0</td>\n",
       "      <td>92117.92092</td>\n",
       "      <td>0.010261</td>\n",
       "      <td>-0.016097</td>\n",
       "      <td>-0.007373</td>\n",
       "      <td>0.34604</td>\n",
       "      <td>0</td>\n",
       "    </tr>\n",
       "    <tr>\n",
       "      <th>3</th>\n",
       "      <td>Aaron Huston</td>\n",
       "      <td>1.0</td>\n",
       "      <td>92194</td>\n",
       "      <td>2010-10-01</td>\n",
       "      <td>1720.0</td>\n",
       "      <td>1720.0</td>\n",
       "      <td>1.0</td>\n",
       "      <td>A</td>\n",
       "      <td>A</td>\n",
       "      <td>0.0</td>\n",
       "      <td>...</td>\n",
       "      <td>1.0</td>\n",
       "      <td>A</td>\n",
       "      <td>1.0</td>\n",
       "      <td>0.0</td>\n",
       "      <td>92117.92092</td>\n",
       "      <td>0.010261</td>\n",
       "      <td>-0.016097</td>\n",
       "      <td>-0.007373</td>\n",
       "      <td>0.34604</td>\n",
       "      <td>0</td>\n",
       "    </tr>\n",
       "    <tr>\n",
       "      <th>4</th>\n",
       "      <td>Aaron Huston</td>\n",
       "      <td>1.0</td>\n",
       "      <td>92194</td>\n",
       "      <td>2010-11-01</td>\n",
       "      <td>1720.0</td>\n",
       "      <td>1720.0</td>\n",
       "      <td>1.0</td>\n",
       "      <td>A</td>\n",
       "      <td>A</td>\n",
       "      <td>0.0</td>\n",
       "      <td>...</td>\n",
       "      <td>1.0</td>\n",
       "      <td>A</td>\n",
       "      <td>1.0</td>\n",
       "      <td>0.0</td>\n",
       "      <td>92117.92092</td>\n",
       "      <td>0.010261</td>\n",
       "      <td>-0.016097</td>\n",
       "      <td>-0.007373</td>\n",
       "      <td>0.34604</td>\n",
       "      <td>0</td>\n",
       "    </tr>\n",
       "  </tbody>\n",
       "</table>\n",
       "<p>5 rows × 24 columns</p>\n",
       "</div>"
      ],
      "text/plain": [
       "           name  house_id    zip payment_date    rent    owed  owed_months  \\\n",
       "0  Aaron Huston       1.0  92194   2010-07-01  1720.0     0.0          0.0   \n",
       "1  Aaron Huston       1.0  92194   2010-08-01  1720.0     0.0          0.0   \n",
       "2  Aaron Huston       1.0  92194   2010-09-01  1720.0  1720.0          1.0   \n",
       "3  Aaron Huston       1.0  92194   2010-10-01  1720.0  1720.0          1.0   \n",
       "4  Aaron Huston       1.0  92194   2010-11-01  1720.0  1720.0          1.0   \n",
       "\n",
       "  credit_score credit_score_short   t5  ...   t0  past_credit_score  max_owed  \\\n",
       "0            A                  A  0.0  ...  0.0                  A       0.0   \n",
       "1            A                  A  0.0  ...  0.0                  A       0.0   \n",
       "2            A                  A  0.0  ...  1.0                  A       1.0   \n",
       "3            A                  A  0.0  ...  1.0                  A       1.0   \n",
       "4            A                  A  0.0  ...  1.0                  A       1.0   \n",
       "\n",
       "   min_owed      ZIPCODE population  earnings  salaries  marriages  A  \n",
       "0       0.0  92117.92092   0.010261 -0.016097 -0.007373    0.34604  0  \n",
       "1       0.0  92117.92092   0.010261 -0.016097 -0.007373    0.34604  0  \n",
       "2       0.0  92117.92092   0.010261 -0.016097 -0.007373    0.34604  0  \n",
       "3       0.0  92117.92092   0.010261 -0.016097 -0.007373    0.34604  0  \n",
       "4       0.0  92117.92092   0.010261 -0.016097 -0.007373    0.34604  0  \n",
       "\n",
       "[5 rows x 24 columns]"
      ]
     },
     "execution_count": 230,
     "metadata": {},
     "output_type": "execute_result"
    }
   ],
   "source": [
    "#Binarize the credit score\n",
    "credit_binarizer = preprocessing.LabelBinarizer()\n",
    "credit_binarizer.fit(df[['past_credit_score']])\n",
    "binary_columns=credit_binarizer.transform(df[['past_credit_score']])\n",
    "df['A']=binary_columns\n",
    "df.head(5)"
   ]
  },
  {
   "cell_type": "markdown",
   "metadata": {},
   "source": [
    "### Scale the data"
   ]
  },
  {
   "cell_type": "code",
   "execution_count": 231,
   "metadata": {},
   "outputs": [
    {
     "data": {
      "text/html": [
       "<div>\n",
       "<style scoped>\n",
       "    .dataframe tbody tr th:only-of-type {\n",
       "        vertical-align: middle;\n",
       "    }\n",
       "\n",
       "    .dataframe tbody tr th {\n",
       "        vertical-align: top;\n",
       "    }\n",
       "\n",
       "    .dataframe thead th {\n",
       "        text-align: right;\n",
       "    }\n",
       "</style>\n",
       "<table border=\"1\" class=\"dataframe\">\n",
       "  <thead>\n",
       "    <tr style=\"text-align: right;\">\n",
       "      <th></th>\n",
       "      <th>name</th>\n",
       "      <th>house_id</th>\n",
       "      <th>zip</th>\n",
       "      <th>payment_date</th>\n",
       "      <th>rent</th>\n",
       "      <th>owed</th>\n",
       "      <th>owed_months</th>\n",
       "      <th>credit_score</th>\n",
       "      <th>credit_score_short</th>\n",
       "      <th>t5</th>\n",
       "      <th>...</th>\n",
       "      <th>t0</th>\n",
       "      <th>past_credit_score</th>\n",
       "      <th>max_owed</th>\n",
       "      <th>min_owed</th>\n",
       "      <th>ZIPCODE</th>\n",
       "      <th>population</th>\n",
       "      <th>earnings</th>\n",
       "      <th>salaries</th>\n",
       "      <th>marriages</th>\n",
       "      <th>A</th>\n",
       "    </tr>\n",
       "  </thead>\n",
       "  <tbody>\n",
       "    <tr>\n",
       "      <th>0</th>\n",
       "      <td>Aaron Huston</td>\n",
       "      <td>1.0</td>\n",
       "      <td>92194</td>\n",
       "      <td>2010-07-01</td>\n",
       "      <td>0.708587</td>\n",
       "      <td>-0.540724</td>\n",
       "      <td>0.0</td>\n",
       "      <td>A</td>\n",
       "      <td>A</td>\n",
       "      <td>0.0</td>\n",
       "      <td>...</td>\n",
       "      <td>0.0</td>\n",
       "      <td>A</td>\n",
       "      <td>-0.769270</td>\n",
       "      <td>-0.137193</td>\n",
       "      <td>92117.92092</td>\n",
       "      <td>0.010261</td>\n",
       "      <td>-0.016097</td>\n",
       "      <td>-0.007373</td>\n",
       "      <td>0.34604</td>\n",
       "      <td>0</td>\n",
       "    </tr>\n",
       "    <tr>\n",
       "      <th>1</th>\n",
       "      <td>Aaron Huston</td>\n",
       "      <td>1.0</td>\n",
       "      <td>92194</td>\n",
       "      <td>2010-08-01</td>\n",
       "      <td>0.708587</td>\n",
       "      <td>-0.540724</td>\n",
       "      <td>0.0</td>\n",
       "      <td>A</td>\n",
       "      <td>A</td>\n",
       "      <td>0.0</td>\n",
       "      <td>...</td>\n",
       "      <td>0.0</td>\n",
       "      <td>A</td>\n",
       "      <td>-0.769270</td>\n",
       "      <td>-0.137193</td>\n",
       "      <td>92117.92092</td>\n",
       "      <td>0.010261</td>\n",
       "      <td>-0.016097</td>\n",
       "      <td>-0.007373</td>\n",
       "      <td>0.34604</td>\n",
       "      <td>0</td>\n",
       "    </tr>\n",
       "    <tr>\n",
       "      <th>2</th>\n",
       "      <td>Aaron Huston</td>\n",
       "      <td>1.0</td>\n",
       "      <td>92194</td>\n",
       "      <td>2010-09-01</td>\n",
       "      <td>0.708587</td>\n",
       "      <td>0.171371</td>\n",
       "      <td>1.0</td>\n",
       "      <td>A</td>\n",
       "      <td>A</td>\n",
       "      <td>0.0</td>\n",
       "      <td>...</td>\n",
       "      <td>1.0</td>\n",
       "      <td>A</td>\n",
       "      <td>-0.087708</td>\n",
       "      <td>-0.137193</td>\n",
       "      <td>92117.92092</td>\n",
       "      <td>0.010261</td>\n",
       "      <td>-0.016097</td>\n",
       "      <td>-0.007373</td>\n",
       "      <td>0.34604</td>\n",
       "      <td>0</td>\n",
       "    </tr>\n",
       "    <tr>\n",
       "      <th>3</th>\n",
       "      <td>Aaron Huston</td>\n",
       "      <td>1.0</td>\n",
       "      <td>92194</td>\n",
       "      <td>2010-10-01</td>\n",
       "      <td>0.708587</td>\n",
       "      <td>0.171371</td>\n",
       "      <td>1.0</td>\n",
       "      <td>A</td>\n",
       "      <td>A</td>\n",
       "      <td>0.0</td>\n",
       "      <td>...</td>\n",
       "      <td>1.0</td>\n",
       "      <td>A</td>\n",
       "      <td>-0.087708</td>\n",
       "      <td>-0.137193</td>\n",
       "      <td>92117.92092</td>\n",
       "      <td>0.010261</td>\n",
       "      <td>-0.016097</td>\n",
       "      <td>-0.007373</td>\n",
       "      <td>0.34604</td>\n",
       "      <td>0</td>\n",
       "    </tr>\n",
       "    <tr>\n",
       "      <th>4</th>\n",
       "      <td>Aaron Huston</td>\n",
       "      <td>1.0</td>\n",
       "      <td>92194</td>\n",
       "      <td>2010-11-01</td>\n",
       "      <td>0.708587</td>\n",
       "      <td>0.171371</td>\n",
       "      <td>1.0</td>\n",
       "      <td>A</td>\n",
       "      <td>A</td>\n",
       "      <td>0.0</td>\n",
       "      <td>...</td>\n",
       "      <td>1.0</td>\n",
       "      <td>A</td>\n",
       "      <td>-0.087708</td>\n",
       "      <td>-0.137193</td>\n",
       "      <td>92117.92092</td>\n",
       "      <td>0.010261</td>\n",
       "      <td>-0.016097</td>\n",
       "      <td>-0.007373</td>\n",
       "      <td>0.34604</td>\n",
       "      <td>0</td>\n",
       "    </tr>\n",
       "  </tbody>\n",
       "</table>\n",
       "<p>5 rows × 24 columns</p>\n",
       "</div>"
      ],
      "text/plain": [
       "           name  house_id    zip payment_date      rent      owed  \\\n",
       "0  Aaron Huston       1.0  92194   2010-07-01  0.708587 -0.540724   \n",
       "1  Aaron Huston       1.0  92194   2010-08-01  0.708587 -0.540724   \n",
       "2  Aaron Huston       1.0  92194   2010-09-01  0.708587  0.171371   \n",
       "3  Aaron Huston       1.0  92194   2010-10-01  0.708587  0.171371   \n",
       "4  Aaron Huston       1.0  92194   2010-11-01  0.708587  0.171371   \n",
       "\n",
       "   owed_months credit_score credit_score_short   t5  ...   t0  \\\n",
       "0          0.0            A                  A  0.0  ...  0.0   \n",
       "1          0.0            A                  A  0.0  ...  0.0   \n",
       "2          1.0            A                  A  0.0  ...  1.0   \n",
       "3          1.0            A                  A  0.0  ...  1.0   \n",
       "4          1.0            A                  A  0.0  ...  1.0   \n",
       "\n",
       "   past_credit_score  max_owed  min_owed      ZIPCODE population  earnings  \\\n",
       "0                  A -0.769270 -0.137193  92117.92092   0.010261 -0.016097   \n",
       "1                  A -0.769270 -0.137193  92117.92092   0.010261 -0.016097   \n",
       "2                  A -0.087708 -0.137193  92117.92092   0.010261 -0.016097   \n",
       "3                  A -0.087708 -0.137193  92117.92092   0.010261 -0.016097   \n",
       "4                  A -0.087708 -0.137193  92117.92092   0.010261 -0.016097   \n",
       "\n",
       "   salaries  marriages  A  \n",
       "0 -0.007373    0.34604  0  \n",
       "1 -0.007373    0.34604  0  \n",
       "2 -0.007373    0.34604  0  \n",
       "3 -0.007373    0.34604  0  \n",
       "4 -0.007373    0.34604  0  \n",
       "\n",
       "[5 rows x 24 columns]"
      ]
     },
     "execution_count": 231,
     "metadata": {},
     "output_type": "execute_result"
    }
   ],
   "source": [
    "#Create scalers for the input fields\n",
    "rent_scaler = StandardScaler().fit(df['rent'].values.reshape(-1, 1))\n",
    "owed_scaler = StandardScaler().fit(df['owed'].values.reshape(-1, 1))\n",
    "min_owed_scaler = StandardScaler().fit(df['min_owed'].values.reshape(-1, 1))\n",
    "max_owed_scaler = StandardScaler().fit(df['max_owed'].values.reshape(-1, 1))\n",
    "\n",
    "df['rent']=rent_scaler.transform(df['rent'].values.reshape(-1, 1))\n",
    "df['owed']=owed_scaler.transform(df['owed'].values.reshape(-1, 1))\n",
    "df['min_owed']=min_owed_scaler.transform(df['min_owed'].values.reshape(-1, 1))\n",
    "df['max_owed']=max_owed_scaler.transform(df['max_owed'].values.reshape(-1, 1))\n",
    "df.head(5)"
   ]
  },
  {
   "cell_type": "markdown",
   "metadata": {
    "colab_type": "text",
    "id": "z6ux6drL0JlP"
   },
   "source": [
    "### Split the data\n",
    "\n",
    "Given that we will use __Cross Validation__ we will only create a test and a train split of the data."
   ]
  },
  {
   "cell_type": "code",
   "execution_count": 232,
   "metadata": {
    "colab": {},
    "colab_type": "code",
    "id": "foS41Z0KUbff"
   },
   "outputs": [],
   "source": [
    "#Set the columns to be used\n",
    "classifier_columns=['rent','owed_months','t0','t1','t2','t3','t4','t5','A','max_owed','min_owed',\n",
    "                    'population','earnings','marriages']\n",
    "label_columns=list('A')\n",
    "\n",
    "#Split the data into x and y\n",
    "x_all=df[classifier_columns]\n",
    "y_all=df[['credit_score','credit_score_short']]\n",
    "\n",
    "#Split the data in train and validate (shuffling is default True)\n",
    "x_train, x_test, y_train, y_test = train_test_split(x_all, y_all, test_size = 0.25)"
   ]
  },
  {
   "cell_type": "markdown",
   "metadata": {
    "colab_type": "text",
    "id": "vTe8IeQkUKB7"
   },
   "source": [
    "## Applying models\n",
    "\n",
    "In this section, we will take 7 models and apply them to our split data. Where hyperparameter tunning is needed, we will utilize the __Cross Validation__ method over a range of parameter options."
   ]
  },
  {
   "cell_type": "markdown",
   "metadata": {
    "colab_type": "text",
    "id": "iGqTsrwQnysz"
   },
   "source": [
    "### Gaussian NB"
   ]
  },
  {
   "cell_type": "code",
   "execution_count": 241,
   "metadata": {
    "colab": {
     "base_uri": "https://localhost:8080/",
     "height": 308
    },
    "colab_type": "code",
    "id": "7H7c7S4Zn3IH",
    "outputId": "eea385ca-0ef7-4d27-94ee-09832eccb14d"
   },
   "outputs": [
    {
     "name": "stdout",
     "output_type": "stream",
     "text": [
      "Validation: 0.9376093894780192  False Positive: 0.22169811320754718  False Negative: 0.05511895790720207\n"
     ]
    },
    {
     "data": {
      "image/png": "[encoded data removed]",
      "text/plain": [
       "<Figure size 432x288 with 1 Axes>"
      ]
     },
     "metadata": {},
     "output_type": "display_data"
    }
   ],
   "source": [
    "#Create and train the model\n",
    "model = GaussianNB()\n",
    "model.fit(x_train[classifier_columns], np.ravel(y_train['credit_score']));\n",
    "\n",
    "#Predict the test data\n",
    "y_predict=model.predict(x_test[classifier_columns])\n",
    "\n",
    "#Check accuracy & precision\n",
    "mat = confusion_matrix(y_test['credit_score'], y_predict)\n",
    "validation_accuracy=accuracy_score(y_test['credit_score'], y_predict)\n",
    "fp=mat.T[0][1]/(mat.T[0][1]+mat.T[1][1])\n",
    "fn=mat.T[1][0]/(mat.T[1][0]+mat.T[0][0])\n",
    "print(\"Validation:\",validation_accuracy,\" False Positive:\",fp,\" False Negative:\",fn)\n",
    "\n",
    "sns.heatmap(mat.T, square=True, annot=True, fmt='d', cbar=False,\n",
    "            xticklabels=['A','B'], yticklabels=['A','B'])\n",
    "plt.xlabel('true label')\n",
    "plt.ylabel('predicted label');"
   ]
  },
  {
   "cell_type": "markdown",
   "metadata": {
    "colab_type": "text",
    "id": "3USr8Cms4Vc_"
   },
   "source": [
    "### Classification Tree\n",
    "\n",
    "Here we try altering two parameters, the tree depth and the max leaf nodes. From the validation curves below, we observe that both produce similar results and therfore we prefer the tree depth limit."
   ]
  },
  {
   "cell_type": "code",
   "execution_count": 175,
   "metadata": {
    "colab": {
     "base_uri": "https://localhost:8080/",
     "height": 291
    },
    "colab_type": "code",
    "id": "_dY_j-0R4YTt",
    "outputId": "19178289-4e77-4e48-8be9-a71613ee14c0"
   },
   "outputs": [
    {
     "data": {
      "image/png": "[encoded data removed]",
      "text/plain": [
       "<Figure size 432x288 with 1 Axes>"
      ]
     },
     "metadata": {},
     "output_type": "display_data"
    }
   ],
   "source": [
    "depth=range(1,20)\n",
    "\n",
    "#Cross validate with 7 fold variating the max_depth\n",
    "training_score, validation_score = validation_curve(DecisionTreeClassifier(), \n",
    "                                           x_train[classifier_columns], \n",
    "                                           np.ravel(y_train['credit_score']),\n",
    "                                           'max_depth', depth, cv=7)\n",
    "\n",
    "#Plot the validation and training scores\n",
    "plt.plot(depth, np.median(training_score, 1), color='blue', label='training score')\n",
    "plt.plot(depth, np.median(validation_score, 1), color='red', label='validation score')\n",
    "plt.xticks(depth)\n",
    "plt.legend(loc='best')\n",
    "plt.xlabel('tree depth')\n",
    "plt.ylabel('score');"
   ]
  },
  {
   "cell_type": "code",
   "execution_count": 176,
   "metadata": {
    "colab": {
     "base_uri": "https://localhost:8080/",
     "height": 291
    },
    "colab_type": "code",
    "id": "2WeV6SGT8NtB",
    "outputId": "25cc94e8-f15e-472b-adb3-f92d758ea6c9"
   },
   "outputs": [
    {
     "data": {
      "image/png": "[encoded data removed]",
      "text/plain": [
       "<Figure size 432x288 with 1 Axes>"
      ]
     },
     "metadata": {},
     "output_type": "display_data"
    }
   ],
   "source": [
    "max_leaf=range(2,100)\n",
    "\n",
    "#Cross validate with 7 fold variating the max_leaf\n",
    "training_score, validation_score = validation_curve(DecisionTreeClassifier(), \n",
    "                                           x_train[classifier_columns], \n",
    "                                           np.ravel(y_train['credit_score']),\n",
    "                                           'max_leaf_nodes', max_leaf, cv=7)\n",
    "#Plot the validation and training scores\n",
    "plt.plot(max_leaf, np.median(training_score, 1), color='blue', label='training score')\n",
    "plt.plot(max_leaf, np.median(validation_score, 1), color='red', label='validation score')\n",
    "plt.xticks(max_leaf[0::5])\n",
    "plt.legend(loc='best')\n",
    "plt.xlabel('leaf nodes')\n",
    "plt.ylabel('score');"
   ]
  },
  {
   "cell_type": "code",
   "execution_count": 177,
   "metadata": {},
   "outputs": [
    {
     "name": "stdout",
     "output_type": "stream",
     "text": [
      "Validation: 0.9170184289097086  False Positive: 0.5668604651162791  False Negative: 0.0031186278037663427\n"
     ]
    },
    {
     "data": {
      "image/png": "[encoded data removed]",
      "text/plain": [
       "<Figure size 432x288 with 1 Axes>"
      ]
     },
     "metadata": {},
     "output_type": "display_data"
    }
   ],
   "source": [
    "#Create and train the model\n",
    "model = DecisionTreeClassifier(max_depth=5)\n",
    "model.fit(x_train[classifier_columns], np.ravel(y_train['credit_score']));\n",
    "\n",
    "#Predict the test data\n",
    "y_predict=model.predict(x_test[classifier_columns])\n",
    "\n",
    "#Check accuracy & precision\n",
    "mat = confusion_matrix(y_test['credit_score'], y_predict)\n",
    "validation_accuracy=accuracy_score(y_test['credit_score'], y_predict)\n",
    "fp=mat.T[0][1]/(mat.T[0][1]+mat.T[1][1])\n",
    "fn=mat.T[1][0]/(mat.T[1][0]+mat.T[0][0])\n",
    "print(\"Validation:\",validation_accuracy,\" False Positive:\",fp,\" False Negative:\",fn)\n",
    "\n",
    "sns.heatmap(mat.T, square=True, annot=True, fmt='d', cbar=False,\n",
    "            xticklabels=['A','B'], yticklabels=['A','B'])\n",
    "plt.xlabel('true label')\n",
    "plt.ylabel('predicted label');"
   ]
  },
  {
   "cell_type": "markdown",
   "metadata": {
    "colab_type": "text",
    "id": "GqxI2Cfx8kZL"
   },
   "source": [
    "### K-Nearest Neighbors"
   ]
  },
  {
   "cell_type": "code",
   "execution_count": 178,
   "metadata": {
    "colab": {},
    "colab_type": "code",
    "id": "dmscV9BQ8lkR"
   },
   "outputs": [
    {
     "data": {
      "image/png": "[encoded data removed]",
      "text/plain": [
       "<Figure size 432x288 with 1 Axes>"
      ]
     },
     "metadata": {},
     "output_type": "display_data"
    }
   ],
   "source": [
    "#set the range we want to test\n",
    "k_range=range(1,20)\n",
    "\n",
    "#Cross validate with 7 fold variating the n_neighbors\n",
    "training_score, validation_score = validation_curve(KNeighborsClassifier(), \n",
    "                                           x_train[classifier_columns], \n",
    "                                           np.ravel(y_train['credit_score']),\n",
    "                                           'n_neighbors', k_range, cv=7)\n",
    "#Plot the validation and training scores\n",
    "plt.plot(depth, np.median(training_score, 1), color='blue', label='training score')\n",
    "plt.plot(depth, np.median(validation_score, 1), color='red', label='validation score')\n",
    "plt.xticks(depth)\n",
    "plt.legend(loc='best')\n",
    "plt.xlabel('neighbors')\n",
    "plt.ylabel('score'); "
   ]
  },
  {
   "cell_type": "code",
   "execution_count": 185,
   "metadata": {},
   "outputs": [
    {
     "name": "stdout",
     "output_type": "stream",
     "text": [
      "Validation: 0.9142386492329867  False Positive: 0.5  False Negative: 0.018777658174859466\n"
     ]
    },
    {
     "data": {
      "image/png": "[encoded data removed]",
      "text/plain": [
       "<Figure size 432x288 with 1 Axes>"
      ]
     },
     "metadata": {},
     "output_type": "display_data"
    }
   ],
   "source": [
    "#Create and train the model\n",
    "model = KNeighborsClassifier(n_neighbors=4)\n",
    "model.fit(x_train[classifier_columns], np.ravel(y_train['credit_score']));\n",
    "\n",
    "#Predict the test data\n",
    "y_predict=model.predict(x_test[classifier_columns])\n",
    "\n",
    "#Check accuracy & precision\n",
    "mat = confusion_matrix(y_test['credit_score'], y_predict)\n",
    "validation_accuracy=accuracy_score(y_test['credit_score'], y_predict)\n",
    "fp=mat.T[0][1]/(mat.T[0][1]+mat.T[1][1])\n",
    "fn=mat.T[1][0]/(mat.T[1][0]+mat.T[0][0])\n",
    "print(\"Validation:\",validation_accuracy,\" False Positive:\",fp,\" False Negative:\",fn)\n",
    "\n",
    "sns.heatmap(mat.T, square=True, annot=True, fmt='d', cbar=False,\n",
    "            xticklabels=['A','B'], yticklabels=['A','B'])\n",
    "plt.xlabel('true label')\n",
    "plt.ylabel('predicted label');"
   ]
  },
  {
   "cell_type": "markdown",
   "metadata": {
    "colab_type": "text",
    "id": "ldsyzQw4EN_M"
   },
   "source": [
    "### Support Vector Machine"
   ]
  },
  {
   "cell_type": "code",
   "execution_count": 186,
   "metadata": {
    "colab": {
     "base_uri": "https://localhost:8080/",
     "height": 362
    },
    "colab_type": "code",
    "id": "FY8jrQbNDcTH",
    "outputId": "250ff3ee-6046-485e-f000-57d734c4daa4"
   },
   "outputs": [
    {
     "name": "stdout",
     "output_type": "stream",
     "text": [
      "Validation: 0.9119736435704726  False Positive: 0.5739644970414202  False Negative: 0.009448630546585337\n"
     ]
    },
    {
     "data": {
      "image/png": "[encoded data removed]",
      "text/plain": [
       "<Figure size 432x288 with 1 Axes>"
      ]
     },
     "metadata": {},
     "output_type": "display_data"
    }
   ],
   "source": [
    "#Create and train the model\n",
    "model = SVC(gamma='auto')\n",
    "model.fit(x_train[classifier_columns], np.ravel(y_train['credit_score']));\n",
    "\n",
    "#Predict the test data\n",
    "y_predict=model.predict(x_test[classifier_columns])\n",
    "\n",
    "#Check accuracy & precision\n",
    "mat = confusion_matrix(y_test['credit_score'], y_predict)\n",
    "validation_accuracy=accuracy_score(y_test['credit_score'], y_predict)\n",
    "fp=mat.T[0][1]/(mat.T[0][1]+mat.T[1][1])\n",
    "fn=mat.T[1][0]/(mat.T[1][0]+mat.T[0][0])\n",
    "print(\"Validation:\",validation_accuracy,\" False Positive:\",fp,\" False Negative:\",fn)\n",
    "\n",
    "sns.heatmap(mat.T, square=True, annot=True, fmt='d', cbar=False,\n",
    "            xticklabels=label_columns, yticklabels=label_columns)\n",
    "plt.xlabel('true label')\n",
    "plt.ylabel('predicted label');"
   ]
  },
  {
   "cell_type": "markdown",
   "metadata": {
    "colab_type": "text",
    "id": "-Q0LYL673vR1"
   },
   "source": [
    "### Bagging Trees (Random Forest)"
   ]
  },
  {
   "cell_type": "code",
   "execution_count": 188,
   "metadata": {
    "colab": {
     "base_uri": "https://localhost:8080/",
     "height": 308
    },
    "colab_type": "code",
    "id": "DqlAIwI93ycw",
    "outputId": "7d64f9dd-1109-4f89-a263-20620f2e45f2"
   },
   "outputs": [
    {
     "name": "stdout",
     "output_type": "stream",
     "text": [
      "Validation: 0.9120765983733141  False Positive: 0.5828402366863905  False Negative: 0.007893792608539648\n"
     ]
    },
    {
     "data": {
      "image/png": "[encoded data removed]",
      "text/plain": [
       "<Figure size 432x288 with 1 Axes>"
      ]
     },
     "metadata": {},
     "output_type": "display_data"
    }
   ],
   "source": [
    "#Create and train the model\n",
    "model= RandomForestClassifier(n_estimators=500, max_depth=5, n_jobs=-1)\n",
    "model.fit(x_train[classifier_columns], np.ravel(y_train['credit_score']))\n",
    "\n",
    "#Predict the test data\n",
    "y_predict=model.predict(x_test[classifier_columns])\n",
    "\n",
    "#Check accuracy & precision\n",
    "mat = confusion_matrix(y_test['credit_score'], y_predict)\n",
    "validation_accuracy=accuracy_score(y_test['credit_score'], y_predict)\n",
    "fp=mat.T[0][1]/(mat.T[0][1]+mat.T[1][1])\n",
    "fn=mat.T[1][0]/(mat.T[1][0]+mat.T[0][0])\n",
    "print(\"Validation:\",validation_accuracy,\" False Positive:\",fp,\" False Negative:\",fn)\n",
    "\n",
    "sns.heatmap(mat.T, square=True, annot=True, fmt='d', cbar=False,\n",
    "            xticklabels=label_columns, yticklabels=label_columns)\n",
    "plt.xlabel('true label')\n",
    "plt.ylabel('predicted label');"
   ]
  },
  {
   "cell_type": "markdown",
   "metadata": {
    "colab_type": "text",
    "id": "43VaXfKk3y8p"
   },
   "source": [
    "### Boosting\n"
   ]
  },
  {
   "cell_type": "code",
   "execution_count": 189,
   "metadata": {
    "colab": {
     "base_uri": "https://localhost:8080/",
     "height": 308
    },
    "colab_type": "code",
    "id": "LRPe4ah831xX",
    "outputId": "dcb14b48-c884-4f06-b7b0-19e253e4357a"
   },
   "outputs": [
    {
     "name": "stdout",
     "output_type": "stream",
     "text": [
      "Validation: 0.9259754967569237  False Positive: 0.3779585798816568  False Negative: 0.024877407008731013\n"
     ]
    },
    {
     "data": {
      "image/png": "[encoded data removed]",
      "text/plain": [
       "<Figure size 432x288 with 1 Axes>"
      ]
     },
     "metadata": {},
     "output_type": "display_data"
    }
   ],
   "source": [
    "#Create and train the model\n",
    "model= AdaBoostClassifier(DecisionTreeClassifier(max_depth=5),n_estimators=100, algorithm='SAMME.R',learning_rate=0.5)\n",
    "model.fit(x_train[classifier_columns], np.ravel(y_train['credit_score']))\n",
    "\n",
    "#Predict the test data\n",
    "y_predict=model.predict(x_test[classifier_columns])\n",
    "\n",
    "#Check accuracy & precision\n",
    "mat = confusion_matrix(y_test['credit_score'], y_predict)\n",
    "validation_accuracy=accuracy_score(y_test['credit_score'], y_predict)\n",
    "fp=mat.T[0][1]/(mat.T[0][1]+mat.T[1][1])\n",
    "fn=mat.T[1][0]/(mat.T[1][0]+mat.T[0][0])\n",
    "print(\"Validation:\",validation_accuracy,\" False Positive:\",fp,\" False Negative:\",fn)\n",
    "\n",
    "sns.heatmap(mat.T, square=True, annot=True, fmt='d', cbar=False,\n",
    "            xticklabels=label_columns, yticklabels=label_columns)\n",
    "plt.xlabel('true label')\n",
    "plt.ylabel('predicted label');"
   ]
  },
  {
   "cell_type": "markdown",
   "metadata": {
    "colab_type": "text",
    "id": "KxMjdrqXDF8b"
   },
   "source": [
    "### Voting"
   ]
  },
  {
   "cell_type": "code",
   "execution_count": 190,
   "metadata": {
    "colab": {
     "base_uri": "https://localhost:8080/",
     "height": 362
    },
    "colab_type": "code",
    "id": "dGJQiM_DDE-g",
    "outputId": "1913f733-970e-4d17-d230-89dfe694cb9b"
   },
   "outputs": [
    {
     "name": "stdout",
     "output_type": "stream",
     "text": [
      "Validation: 0.9131061464017296  False Positive: 0.5850591715976331  False Negative: 0.00633895467049396\n"
     ]
    },
    {
     "data": {
      "image/png": "[encoded data removed]",
      "text/plain": [
       "<Figure size 432x288 with 1 Axes>"
      ]
     },
     "metadata": {},
     "output_type": "display_data"
    }
   ],
   "source": [
    "#Define models in voting\n",
    "nb_model= GaussianNB()\n",
    "knn_model= KNeighborsClassifier(n_neighbors=4)\n",
    "svm_model = SVC(gamma='auto')\n",
    "tree_model = DecisionTreeClassifier(max_depth=5)\n",
    "estimators=[('nb_model',nb_model),('knn_model',knn_model),('svm_model',svm_model),('tree_model',tree_model)]\n",
    "\n",
    "#Create and train the voting model\n",
    "model=VotingClassifier(estimators=estimators,voting='hard')\n",
    "model.fit(x_train[classifier_columns], np.ravel(y_train['credit_score']))\n",
    "\n",
    "#Predict the test data\n",
    "y_predict=model.predict(x_test[classifier_columns])\n",
    "\n",
    "#Check accuracy & precision\n",
    "mat = confusion_matrix(y_test['credit_score'], y_predict)\n",
    "validation_accuracy=accuracy_score(y_test['credit_score'], y_predict)\n",
    "fp=mat.T[0][1]/(mat.T[0][1]+mat.T[1][1])\n",
    "fn=mat.T[1][0]/(mat.T[1][0]+mat.T[0][0])\n",
    "print(\"Validation:\",validation_accuracy,\" False Positive:\",fp,\" False Negative:\",fn)\n",
    "\n",
    "sns.heatmap(mat.T, square=True, annot=True, fmt='d', cbar=False,\n",
    "            xticklabels=label_columns, yticklabels=label_columns)\n",
    "plt.xlabel('true label')\n",
    "plt.ylabel('predicted label');"
   ]
  },
  {
   "cell_type": "markdown",
   "metadata": {},
   "source": [
    "## Model comparison\n",
    "\n",
    "The below table consolidates the results obtained for the models in this section. Please note that in case this notebook is being run separately, the results may vary due to the randomized data split.\n",
    "\n",
    "<table align=\"center\">\n",
    "  <tr>\n",
    "    <th>Model</th>\n",
    "    <th>Validation Accuracy</th>\n",
    "    <th>False Positive <br> Bad tenant classed good</th>\n",
    "    <th>False Negative <br> Good tenant classed bad</th>\n",
    "  </tr>\n",
    "  <tr>\n",
    "    <td>Naive Bayes</td>\n",
    "    <td>86.97%</td>\n",
    "    <td>31.68%</td>\n",
    "    <td>9.94%</td>\n",
    "  </tr>\n",
    "  <tr>\n",
    "    <td>Classification Tree</td>\n",
    "    <td>91.7%</td>\n",
    "    <td>56.68%</td>\n",
    "    <td>0.31%</td>\n",
    "  </tr>\n",
    "  <tr>\n",
    "    <td>K-Nearest Neighbors</td>\n",
    "    <td>91.92%</td>\n",
    "    <td>50%</td>\n",
    "    <td>1.87%</td>\n",
    "  </tr>\n",
    "  <tr>\n",
    "    <td>Support Vector Machines</td>\n",
    "    <td>91.19%</td>\n",
    "    <td>57.39%</td>\n",
    "    <td>0.94%</td>\n",
    "  </tr>\n",
    "  <tr>\n",
    "    <td>Random Forest</td>\n",
    "    <td>91.2%</td>\n",
    "    <td>58.28%</td>\n",
    "    <td>0.78%</td>\n",
    "  </tr>\n",
    "  <tr>\n",
    "    <td>AdaBoost with Trees</td>\n",
    "    <td>92.59%</td>\n",
    "    <td>37.79%</td>\n",
    "    <td>2.48%</td>\n",
    "  </tr>\n",
    "  <tr>\n",
    "    <td>Voting NB, KNN, SVM and Tree</td>\n",
    "    <td>91.31%</td>\n",
    "    <td>58.50%</td>\n",
    "    <td>0.63%</td>\n",
    "  </tr>\n",
    "<table align=\"center\">\n",
    "    \n",
    "As discussed during the hypothesis setting, although the accuracy is important, we will pick the model that gives us the lowest false positive score. This is, the model that is best at identifying the tenants who are high risk, even if we sacrifice incorrectly classifiyng some of the low risk. \n",
    "\n",
    "As can be seen from the above data, the __Naive Bayes Classifier__ is the best performer in False Positives and therefore we establish it as our lead model."
   ]
  },
  {
   "cell_type": "markdown",
   "metadata": {},
   "source": [
    "### Parameter evaluation\n",
    "\n",
    "Now that we have found our ideal model, we want to try for different parameters. The following code loops around each individual parameter available and creates a Naive Bayes model that excludes that parameter. This should identify those parameters that by removing them would create better models"
   ]
  },
  {
   "cell_type": "code",
   "execution_count": 198,
   "metadata": {},
   "outputs": [
    {
     "name": "stdout",
     "output_type": "stream",
     "text": [
      "rent \t -Validation: 0.87  False Positive: 0.32  False Negative: 0.1\n",
      "owed_months \t -Validation: 0.87  False Positive: 0.34  False Negative: 0.09\n",
      "t0 \t -Validation: 0.87  False Positive: 0.34  False Negative: 0.09\n",
      "t1 \t -Validation: 0.87  False Positive: 0.34  False Negative: 0.09\n",
      "t2 \t -Validation: 0.87  False Positive: 0.34  False Negative: 0.09\n",
      "t3 \t -Validation: 0.87  False Positive: 0.34  False Negative: 0.09\n",
      "t4 \t -Validation: 0.87  False Positive: 0.34  False Negative: 0.09\n",
      "t5 \t -Validation: 0.87  False Positive: 0.32  False Negative: 0.1\n",
      "A \t -Validation: 0.85  False Positive: 0.27  False Negative: 0.13\n",
      "max_owed \t -Validation: 0.87  False Positive: 0.33  False Negative: 0.09\n",
      "min_owed \t -Validation: 0.87  False Positive: 0.32  False Negative: 0.1\n",
      "population \t -Validation: 0.87  False Positive: 0.32  False Negative: 0.1\n",
      "earnings \t -Validation: 0.87  False Positive: 0.33  False Negative: 0.1\n",
      "marriages \t -Validation: 0.87  False Positive: 0.32  False Negative: 0.1\n"
     ]
    }
   ],
   "source": [
    "for v in classifier_columns:\n",
    "    temp_set=set(classifier_columns)\n",
    "    temp_set.remove(v)\n",
    "    model = GaussianNB()\n",
    "    model.fit(x_train[list(temp_set)], np.ravel(y_train));\n",
    "\n",
    "    #Predict the test data\n",
    "    y_predict=model.predict(x_test[list(temp_set)])\n",
    "\n",
    "    #Check accuracy & precision\n",
    "    mat = confusion_matrix(y_test, y_predict)\n",
    "    validation_accuracy=round(accuracy_score(y_test, y_predict),2)\n",
    "    fp=round(mat.T[0][1]/(mat.T[0][1]+mat.T[1][1]),2)\n",
    "    fn=round(mat.T[1][0]/(mat.T[1][0]+mat.T[0][0]),2)\n",
    "    print(v,\"\\t -Validation:\",validation_accuracy,\" False Positive:\",fp,\" False Negative:\",fn)"
   ]
  },
  {
   "cell_type": "markdown",
   "metadata": {},
   "source": [
    "Based on this information, we propose a model with rent, owed months, 6 months of past debt, maximum owed, minimum owed, population, earnings and marriages"
   ]
  },
  {
   "cell_type": "code",
   "execution_count": 247,
   "metadata": {},
   "outputs": [
    {
     "name": "stdout",
     "output_type": "stream",
     "text": [
      "Validation: 0.852752321630804  False Positive: 0.27076226415094338  False Negative: 0.12720734201743998\n"
     ]
    },
    {
     "data": {
      "image/png": "[encoded data removed]",
      "text/plain": [
       "<Figure size 432x288 with 1 Axes>"
      ]
     },
     "metadata": {},
     "output_type": "display_data"
    }
   ],
   "source": [
    "#New Columns\n",
    "classifier_columns=['rent','owed_months','t0','t1','t2','t3','t4','t5','max_owed','min_owed',\n",
    "                    'population','earnings','marriages']\n",
    "\n",
    "#Create and train the model\n",
    "model = GaussianNB()\n",
    "model.fit(x_train[classifier_columns], np.ravel(y_train['credit_score']));\n",
    "\n",
    "#Predict the test data\n",
    "y_predict=model.predict(x_test[classifier_columns])\n",
    "\n",
    "#Check accuracy & precision\n",
    "mat = confusion_matrix(y_test['credit_score'], y_predict)\n",
    "validation_accuracy=accuracy_score(y_test['credit_score'], y_predict)\n",
    "fp=mat.T[0][1]/(mat.T[0][1]+mat.T[1][1])\n",
    "fn=mat.T[1][0]/(mat.T[1][0]+mat.T[0][0])\n",
    "print(\"Validation:\",validation_accuracy,\" False Positive:\",fp,\" False Negative:\",fn)\n",
    "\n",
    "sns.heatmap(mat.T, square=True, annot=True, fmt='d', cbar=False,\n",
    "            xticklabels=['A','B'], yticklabels=['A','B'])\n",
    "plt.xlabel('true label')\n",
    "plt.ylabel('predicted label');"
   ]
  },
  {
   "cell_type": "markdown",
   "metadata": {},
   "source": [
    "We can observe that the new false positive rate is, 27.07%, is better than the previous record of 31.68%. Therefore we have reached our final model and can __accept the hypothesis that the false positive rate is less than 30%__"
   ]
  },
  {
   "cell_type": "markdown",
   "metadata": {},
   "source": [
    "## Short Term Risk\n",
    "\n",
    "We now take at our ideal model and parameters and create a model to predict the short term risk, i.e. the high risk/low risk classification for the next 3 months (instead of the original 6 months). We note that we are not changing any of the data, we are simply predicting a different label that has been previosly created"
   ]
  },
  {
   "cell_type": "code",
   "execution_count": 248,
   "metadata": {},
   "outputs": [
    {
     "name": "stdout",
     "output_type": "stream",
     "text": [
      "Validation: 0.928652321630804  False Positive: 0.18396226415094338  False Negative: 0.06620734201743998\n"
     ]
    },
    {
     "data": {
      "image/png": "[encoded data removed]",
      "text/plain": [
       "<Figure size 432x288 with 1 Axes>"
      ]
     },
     "metadata": {},
     "output_type": "display_data"
    }
   ],
   "source": [
    "#Create and train the model\n",
    "model = GaussianNB()\n",
    "model.fit(x_train[classifier_columns], np.ravel(y_train['credit_score_short']));\n",
    "\n",
    "#Predict the test data\n",
    "y_predict=model.predict(x_test[classifier_columns])\n",
    "\n",
    "#Check accuracy & precision\n",
    "mat = confusion_matrix(y_test['credit_score_short'], y_predict)\n",
    "validation_accuracy=accuracy_score(y_test['credit_score_short'], y_predict)\n",
    "fp=mat.T[0][1]/(mat.T[0][1]+mat.T[1][1])\n",
    "fn=mat.T[1][0]/(mat.T[1][0]+mat.T[0][0])\n",
    "print(\"Validation:\",validation_accuracy,\" False Positive:\",fp,\" False Negative:\",fn)\n",
    "\n",
    "sns.heatmap(mat.T, square=True, annot=True, fmt='d', cbar=False,\n",
    "            xticklabels=['A','B'], yticklabels=['A','B'])\n",
    "plt.xlabel('true label')\n",
    "plt.ylabel('predicted label');"
   ]
  },
  {
   "cell_type": "markdown",
   "metadata": {},
   "source": [
    "In a very short glance, we can observe that predicting risk over 3 months, is significantly more accurate than predicting over 6 months. This shouldnt be surprising as long term predictions are typically harder to make."
   ]
  },
  {
   "cell_type": "markdown",
   "metadata": {},
   "source": [
    "## Conclusion\n",
    "\n",
    "In this exercise we used two data sources, the history of payents and IRS data at the postcode level. In the first part of the exercise we discovered inconsistencies in all dates from the rental data. In particular, the date of birth suggested a large proportion of people paying were under 18 years of age, not yet born, or born over 100 years ago, therefore, we decided to drop the column. The payment date was found to contain mix formats, and thus we had to create a function to decide on a date format for each house based on the total history of dates. The rest of the variables, including those from the postal set were standard scaled.\n",
    "\n",
    "The second part of the assignment consisted of creating a label for either low risk or high risk tenant, A and B respectively. Here we used the past 6 months of data and classified each data point as A or B depending on the slope of amount of months owed as well as the and latest debt position. We also pivoted the 6 months of debt standings previous to the prediction months and merged the postcode data onto a single set.\n",
    "\n",
    "In the third part of this notebook, we created 7 different classification models and derived the performance meassure for each against our dataset. Where parameter tunning was necessary, we used the cross validation method to find the setting that maximised accuracy. We summarised the scores of all the models on a single table presented in the previous section. Here, we decided that the most critical measure was the False Positive rate, this given the fact that we are inerested in the model that minimises the amount of times that a bad payer is classified as good. The winning model was Naive Bayes, with an accuracy score of 86.97%, a false positive rate of 31.68% and 9.94% false negatives.\n",
    "\n",
    "A further step was to eliminate the variables that were not needed. We did this by iterating over every variable and calculating the score for our selected Naive Bayes model without such parameter. This lead us to drop the past 6 month credit rating parameter which acted as a proxy for past payment history. The simpler model resulted in an improvement of scores, with the new accuracy being 85.27%, a false positive rate at 27.07% and 6.62% false negatives.\n",
    "\n",
    "However, the most significant improvement to our models, is to use a shorter prediction time horizon. By switching from a 6 month to a 3 month future window we were able to acheive 92.86% accuracy, 18.39% fase positives and 12.72% false negatives. It is a general rule that short term predictions are more accurate than long term, and this experiment supports that conclusion.\n",
    "\n",
    "We conclude that given the limited data, an accuracy of 92.86% and a false positive rate of 12.72% is a successful result. This is, we accept the hypothesis that _Given the history of payments for an individual at a specific point in time, it is possible to accurately estimate the probability of falling into arrears_. However, we aknowledge that this model is not yet good enough for utilising in a production environment for two reasons, accuracy and simplicity.\n",
    "\n",
    "In terms of accuracy, we believe that the best strategy for improving scores is enriching the dataset. We expect that it would be possible to find further information about the area of the house as well as the tenant that can lead to better predictions. Therefore a key recommendation for the project is to look for alternative data sources.\n",
    "\n",
    "In terms of simplicity, we have only classified tenants into low risk or high risk, which allows the landlord to decide if they should accept a new tenant or not. However, it is a possible scenario, that insted of a fixed label, the landlord might want to have a numerical value that allows her to expand the actionables. For example, if the probability of becoming a bad tenant grows, then warning letter and finanacial advice can be issued to prevent them falling in arrears. Therefore our second key recommendation is to explore the use of probability and regression models instead of classifiers.\n",
    "\n",
    "Lastly, we recommend that the landlord use the short term predictions wherever possible given the higher accuracy. An example could be to utilize the short term prediction to decide who to provide financial advice to and the long term prediction to decide which individuals will need more thorough background checks before moving into a property."
   ]
  }
 ],
 "metadata": {
  "colab": {
   "collapsed_sections": [],
   "name": "Group 6 ML Final (simple score).ipynb",
   "provenance": [],
   "version": "0.3.2"
  },
  "kernelspec": {
   "display_name": "Python 3",
   "language": "python",
   "name": "python3"
  },
  "language_info": {
   "codemirror_mode": {
    "name": "ipython",
    "version": 3
   },
   "file_extension": ".py",
   "mimetype": "text/x-python",
   "name": "python",
   "nbconvert_exporter": "python",
   "pygments_lexer": "ipython3",
   "version": "3.6.8"
  }
 },
 "nbformat": 4,
 "nbformat_minor": 1
}
